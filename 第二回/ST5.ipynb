{
 "cells": [
  {
   "cell_type": "markdown",
   "metadata": {
    "toc-hr-collapsed": false
   },
   "source": [
    "# 添数づけられた族，一般の直積"
   ]
  },
  {
   "cell_type": "code",
   "execution_count": 767,
   "metadata": {},
   "outputs": [],
   "source": [
    "def series(func,N):\n",
    "    return {n:func(n) for n in N}"
   ]
  },
  {
   "cell_type": "code",
   "execution_count": 768,
   "metadata": {},
   "outputs": [],
   "source": [
    "def a1(n):\n",
    "    assert n>0, 'n は自然数'\n",
    "    return 1/n\n",
    "\n",
    "def a2(n):\n",
    "    return (-1)**(n-1)"
   ]
  },
  {
   "cell_type": "markdown",
   "metadata": {},
   "source": [
    "添数集合 $\\Lambda$ から集合 $A$ への写像\n",
    "$$\n",
    "a1: \\Lambda \\rightarrow A\n",
    "$$"
   ]
  },
  {
   "cell_type": "code",
   "execution_count": 769,
   "metadata": {},
   "outputs": [],
   "source": [
    "# 順序のある集合\n",
    "N = range(1,1001)\n",
    "sub_A1 = series(a1,N)\n",
    "sub_A2 = series(a2,N)"
   ]
  },
  {
   "cell_type": "code",
   "execution_count": 770,
   "metadata": {},
   "outputs": [
    {
     "name": "stdout",
     "output_type": "stream",
     "text": [
      "a1(14) = 0.07143\n",
      "a2(14) = -1\n"
     ]
    }
   ],
   "source": [
    "n = 14  # 添数によって値を呼び出せる...\n",
    "print(f'a1({n}) = {sub_A1[n]:.5f}')\n",
    "print(f'a2({n}) = {sub_A2[n]:.0f}')"
   ]
  },
  {
   "cell_type": "code",
   "execution_count": 771,
   "metadata": {},
   "outputs": [
    {
     "name": "stdout",
     "output_type": "stream",
     "text": [
      "a1(n) = nn\n"
     ]
    }
   ],
   "source": [
    "# 順序のない集合\n",
    "a3 = lambda x: x * 2\n",
    "I = {a for a in 'nbg678iuyt5edfc'}\n",
    "sub_A3 = series(a3,I)\n",
    "\n",
    "i = 'n'\n",
    "print(f'a1({i}) = {sub_A3[i]}')"
   ]
  },
  {
   "cell_type": "markdown",
   "metadata": {
    "toc-hr-collapsed": false
   },
   "source": [
    "## 集合族"
   ]
  },
  {
   "cell_type": "code",
   "execution_count": 772,
   "metadata": {},
   "outputs": [],
   "source": [
    "def power_set(S):  # 冪集合\n",
    "    p_sets = [[]]\n",
    "    for s in S:\n",
    "        tmp = []\n",
    "        for element in p_sets:\n",
    "            tmp.append(element + [s])\n",
    "        p_sets.extend(tmp)\n",
    "    return [set(s) for s in p_sets]\n",
    "\n",
    "def is_familiy_of_subset(As,X):\n",
    "    return all([is_subset(A,X) for A in As])"
   ]
  },
  {
   "cell_type": "code",
   "execution_count": 773,
   "metadata": {},
   "outputs": [],
   "source": [
    "X = {a for a in range(10)}\n",
    "As = power_set(X)\n",
    "I = range(len(As))\n",
    "\n",
    "def a4(A):\n",
    "    def func(i):\n",
    "        return A[i]\n",
    "    return func\n",
    "\n",
    "A = series(a4(As),I)"
   ]
  },
  {
   "cell_type": "code",
   "execution_count": 774,
   "metadata": {},
   "outputs": [
    {
     "data": {
      "text/plain": [
       "True"
      ]
     },
     "execution_count": 774,
     "metadata": {},
     "output_type": "execute_result"
    }
   ],
   "source": [
    "is_familiy_of_subset(As,X)"
   ]
  },
  {
   "cell_type": "markdown",
   "metadata": {},
   "source": [
    "### 集合族とその演算"
   ]
  },
  {
   "cell_type": "code",
   "execution_count": 780,
   "metadata": {},
   "outputs": [],
   "source": [
    "def union(sets):\n",
    "    sets = [{s} if isinstance(s,(int,str)) else s for s in sets]\n",
    "    S = sets[0]\n",
    "    for s in sets[1:]:\n",
    "        S = {_ for _ in {*S, *s}}\n",
    "    return S\n",
    "\n",
    "\n",
    "def family_union(As):\n",
    "    return union(As.values())\n",
    "\n",
    "\n",
    "def intersection(sets):\n",
    "    sets = [{s} if isinstance(s,(int,str)) else s for s in sets]\n",
    "    S = sets[0]\n",
    "    for s in sets[1:]:\n",
    "        S = {_ for _ in S if _ in s}\n",
    "    return S\n",
    "\n",
    "\n",
    "def family_insec(As):\n",
    "    return intersection(As.values())\n",
    "\n",
    "\n",
    "def diff(A, S):\n",
    "    return {_ for _ in S if _ not in A}\n",
    "\n",
    "\n",
    "def get_values(As, keys):\n",
    "    return {k:As[k] for k in keys}"
   ]
  },
  {
   "cell_type": "code",
   "execution_count": 781,
   "metadata": {},
   "outputs": [
    {
     "name": "stdout",
     "output_type": "stream",
     "text": [
      "和集合: {0, 1, 2, 3, 4, 5, 6, 7, 8, 9}\n",
      "共通部分: set()\n"
     ]
    }
   ],
   "source": [
    "print('和集合:', family_union(A))\n",
    "print('共通部分:', family_insec(A))"
   ]
  },
  {
   "cell_type": "code",
   "execution_count": 782,
   "metadata": {},
   "outputs": [
    {
     "name": "stdout",
     "output_type": "stream",
     "text": [
      "set()\n",
      "set()\n"
     ]
    }
   ],
   "source": [
    "print(diff(family_union(A),X))\n",
    "print(family_insec({n:diff(A,X) for n,A in A.items()}))"
   ]
  },
  {
   "cell_type": "code",
   "execution_count": 783,
   "metadata": {},
   "outputs": [
    {
     "name": "stdout",
     "output_type": "stream",
     "text": [
      "{1: {0}, 2: {1}, 5: {0, 2}, 6: {1, 2}, 7: {0, 1, 2}, 10: {1, 3}}\n",
      "補集合\n",
      "{4, 5, 6, 7, 8, 9}\n",
      "{4, 5, 6, 7, 8, 9}\n"
     ]
    }
   ],
   "source": [
    "J = [1,2,5,6,7,10]\n",
    "sub_A = get_values(A,J)\n",
    "print(sub_A)\n",
    "\n",
    "print('補集合')\n",
    "print(diff(family_union(sub_A),X))\n",
    "print(family_insec({n:diff(A,X) for n,A in sub_A.items()}))"
   ]
  },
  {
   "cell_type": "markdown",
   "metadata": {},
   "source": [
    "### 直積"
   ]
  },
  {
   "cell_type": "code",
   "execution_count": 784,
   "metadata": {},
   "outputs": [],
   "source": [
    "def flatten(S):\n",
    "    if not isinstance(S,list):\n",
    "        return [S]\n",
    "    x = []\n",
    "    for s in S:\n",
    "        x += flatten(s)\n",
    "    return x\n",
    "\n",
    "def direct_product(As):\n",
    "    if isinstance(As,dict):\n",
    "        As = list(As.values())\n",
    "    X = []\n",
    "    if len(As) == 1:\n",
    "        return As[0]\n",
    "    for a in As[0]:\n",
    "        for b in direct_product(As[1:]):\n",
    "            X += [flatten([a,b])]\n",
    "    return X"
   ]
  },
  {
   "cell_type": "code",
   "execution_count": 785,
   "metadata": {},
   "outputs": [
    {
     "name": "stdout",
     "output_type": "stream",
     "text": [
      "dict_values([{0}, {1}, {0, 1}, {2}, {0, 2}, {1, 2}, {0, 1, 2}, {3}, {0, 3}])\n"
     ]
    }
   ],
   "source": [
    "J = [a for a in range(1,10)]\n",
    "sub_A = get_values(A,J)\n",
    "print(sub_A.values())"
   ]
  },
  {
   "cell_type": "code",
   "execution_count": 786,
   "metadata": {},
   "outputs": [
    {
     "name": "stdout",
     "output_type": "stream",
     "text": [
      "48 48\n"
     ]
    }
   ],
   "source": [
    "from functools import reduce\n",
    "dpA = direct_product(sub_A)\n",
    "print(len(dpA), len(reduce(lambda x,y: [0]*len(x)*len(y), sub_A.values())))"
   ]
  },
  {
   "cell_type": "markdown",
   "metadata": {},
   "source": [
    "### 選出公理\n",
    "\n",
    "$$\n",
    "\\forall \\lambda \\in \\Lambda\\ (A_{\\lambda} \\neq \\varnothing) \n",
    "\\implies \\Pi_{\\lambda \\in \\Lambda} A_{\\lambda} \\neq \\varnothing\n",
    "$$\n",
    "\n",
    "と対偶にある\n",
    "\n",
    "$$\n",
    "\\Pi_{\\lambda \\in \\Lambda} A_{\\lambda} = \\varnothing\n",
    "\\implies \\exists \\lambda \\in \\Lambda\\ (A_{\\lambda} = \\varnothing) \n",
    "$$"
   ]
  },
  {
   "cell_type": "code",
   "execution_count": 787,
   "metadata": {},
   "outputs": [
    {
     "data": {
      "text/plain": [
       "([], set())"
      ]
     },
     "execution_count": 787,
     "metadata": {},
     "output_type": "execute_result"
    }
   ],
   "source": [
    "direct_product(A), A[0]"
   ]
  },
  {
   "cell_type": "markdown",
   "metadata": {},
   "source": [
    "### 射影"
   ]
  },
  {
   "cell_type": "code",
   "execution_count": 788,
   "metadata": {},
   "outputs": [
    {
     "name": "stdout",
     "output_type": "stream",
     "text": [
      "l=5 の 点[0, 1, 1, 2, 2, 1, 2, 3, 0] における座標:2\n"
     ]
    }
   ],
   "source": [
    "n = 40\n",
    "l = 4\n",
    "\n",
    "def projection(A,n,l):\n",
    "    return A[n][l]\n",
    "\n",
    "print(f'l={J[l]} の 点{dpA[n]} における座標:{projection(dpA,n,l)}')"
   ]
  },
  {
   "cell_type": "markdown",
   "metadata": {},
   "source": [
    "### Th. 7\n",
    "\n",
    "$f$ を $A$ から $B$ への写像とする．  \n",
    "$$\n",
    "(a)\\  f が全射 \\Leftrightarrow \\exists I_{B}\\ \\left[ f \\circ s = I_{B} となるような写像 I_{B}: B \\rightarrow A \\right]\n",
    "$$\n",
    "\n",
    "$$\n",
    "(b)\\  f が単射 \\Leftrightarrow \\exists I_{B}\\ \\left[ r \\circ f = I_{A} となるような写像 I_{A}: B \\rightarrow A \\right]\n",
    "$$"
   ]
  },
  {
   "cell_type": "code",
   "execution_count": 789,
   "metadata": {},
   "outputs": [],
   "source": [
    "from collections import defaultdict\n",
    "def is_surjective(A,B,func):  # 全射\n",
    "    return all([b in func(A) for b in B])\n",
    "\n",
    "def is_injective(A,B,func):  # 単射\n",
    "    ans = defaultdict(list)\n",
    "    inv_ans = defaultdict(list)\n",
    "    for a in A:\n",
    "        for b in func(a):\n",
    "            ans[b].append(a)\n",
    "            inv_ans[a].append(b)\n",
    "    return all([len(v) == 1 for k,v in [*ans.items(),*inv_ans.items()]])\n",
    "\n",
    "def is_bijective(A,B,func):  # 全単射\n",
    "    return all([\n",
    "        is_surjective(A,B,func),\n",
    "        is_injective(A,B,func)\n",
    "    ])"
   ]
  },
  {
   "cell_type": "code",
   "execution_count": 790,
   "metadata": {},
   "outputs": [],
   "source": [
    "def relations(func, A):\n",
    "    if isinstance(A,set):\n",
    "        return {\n",
    "            x: func(x) for x in A\n",
    "        }\n",
    "    elif isinstance(A,list):\n",
    "        return {\n",
    "            str(a): func(a) for a in A if func(a) is not None\n",
    "        }\n",
    "\n",
    "def image(relations):\n",
    "    dmn = [a for a,b in relations.items() if isinstance(b,set)]\n",
    "    img = [b for a,b in relations.items()]\n",
    "    return union(dmn), union(img)\n",
    "\n",
    "def is_subset(A,B):\n",
    "    return all([x in B for x in A if x is not None])\n",
    "\n",
    "def f(x):\n",
    "    sets = 'abcdefg'\n",
    "    if not isinstance(x,set):\n",
    "        x = set([x])\n",
    "    return {sets[a%len(sets)] for a in x}\n",
    "\n",
    "def delta(relations):  # 逆対応\n",
    "    inv_rlts = defaultdict(set)\n",
    "    for key, vals in relations.items():\n",
    "        for val in vals:\n",
    "            inv_rlts[val].add(key)\n",
    "    return inv_rlts\n",
    "\n",
    "def inv_(func,P):\n",
    "    rlt_P = relations(func,P)\n",
    "    rlt = delta(rlt_P)\n",
    "    def inv(x):\n",
    "        if not isinstance(x,set):\n",
    "            x = set([x])\n",
    "        return union([rlt[a] for a in x])\n",
    "    return inv\n",
    "\n",
    "def is_map(A,func):  # 写像\n",
    "    rlt = relations(func,A)\n",
    "    return all([len(b) == 1 for a,b in rlt.items()])"
   ]
  },
  {
   "cell_type": "markdown",
   "metadata": {},
   "source": [
    "(a)"
   ]
  },
  {
   "cell_type": "code",
   "execution_count": 791,
   "metadata": {},
   "outputs": [
    {
     "data": {
      "text/plain": [
       "True"
      ]
     },
     "execution_count": 791,
     "metadata": {},
     "output_type": "execute_result"
    }
   ],
   "source": [
    "A = {a for a in '1qaz2wsx3edc'}\n",
    "\n",
    "def f(x=None, is_val=False):\n",
    "    B = {0,1,2,3}\n",
    "    if is_val:\n",
    "        return B\n",
    "    if not isinstance(x,(str,int)):\n",
    "        return union([f(a) for a in x])\n",
    "    if x in 'asdfghjkl;':\n",
    "        return {0}\n",
    "    if x in 'zxcvbnm,./':\n",
    "        return {1}\n",
    "    if x in 'qwertyuiop[]':\n",
    "        return {2}\n",
    "    else:\n",
    "        return {3}\n",
    "        \n",
    "\n",
    "rlt_A = relations(f,A)\n",
    "dmn_A, img_A = image(rlt_A)\n",
    "B = f(is_val=True)\n",
    "is_map(A,f)"
   ]
  },
  {
   "cell_type": "code",
   "execution_count": 792,
   "metadata": {},
   "outputs": [
    {
     "data": {
      "text/plain": [
       "True"
      ]
     },
     "execution_count": 792,
     "metadata": {},
     "output_type": "execute_result"
    }
   ],
   "source": [
    "is_surjective(A,B,f)"
   ]
  },
  {
   "cell_type": "code",
   "execution_count": 793,
   "metadata": {},
   "outputs": [
    {
     "data": {
      "text/plain": [
       "{'a': {0},\n",
       " 'z': {1},\n",
       " '2': {3},\n",
       " 'c': {1},\n",
       " 's': {0},\n",
       " 'x': {1},\n",
       " 'd': {0},\n",
       " 'w': {2},\n",
       " '1': {3},\n",
       " 'e': {2},\n",
       " '3': {3},\n",
       " 'q': {2}}"
      ]
     },
     "execution_count": 793,
     "metadata": {},
     "output_type": "execute_result"
    }
   ],
   "source": [
    "rlt_A"
   ]
  },
  {
   "cell_type": "code",
   "execution_count": 794,
   "metadata": {},
   "outputs": [
    {
     "data": {
      "text/plain": [
       "True"
      ]
     },
     "execution_count": 794,
     "metadata": {},
     "output_type": "execute_result"
    }
   ],
   "source": [
    "def s(x=None, is_val=False):\n",
    "    A = {a for a in '1qaz2wsx3edc'}\n",
    "    if is_val:\n",
    "        return A\n",
    "    if not isinstance(x,(str,int)):\n",
    "        return union([s(a) for a in x])\n",
    "    if x == 0:\n",
    "        return {'a'}\n",
    "    elif x == 1:\n",
    "        return {'z'}\n",
    "    elif x == 2:\n",
    "        return {'w'}\n",
    "    else:\n",
    "        return {'3'}\n",
    "\n",
    "rlt_B = relations(s,B)\n",
    "dmn_B, img_B = image(rlt_B)\n",
    "sub_A = s(is_val=True)\n",
    "is_map(B,s)"
   ]
  },
  {
   "cell_type": "code",
   "execution_count": 795,
   "metadata": {},
   "outputs": [],
   "source": [
    "def composit_map(F):\n",
    "    def func(x):\n",
    "        for f in F:\n",
    "            x = f(x)\n",
    "        return x\n",
    "    return func\n",
    "\n",
    "def is_identity(func,A):\n",
    "    return all([{a}==func(a) for a in A])"
   ]
  },
  {
   "cell_type": "code",
   "execution_count": 796,
   "metadata": {},
   "outputs": [
    {
     "name": "stdout",
     "output_type": "stream",
     "text": [
      "{0: {0}, 1: {1}, 2: {2}, 3: {3}}\n",
      "恒等写像か: True\n"
     ]
    }
   ],
   "source": [
    "i_b = composit_map([s,f])\n",
    "rlt_i_b = relations(i_b,B)\n",
    "print(rlt_i_b)\n",
    "print('恒等写像か:', is_identity(i_b,B))"
   ]
  },
  {
   "cell_type": "markdown",
   "metadata": {},
   "source": [
    "(b)"
   ]
  },
  {
   "cell_type": "code",
   "execution_count": 797,
   "metadata": {},
   "outputs": [
    {
     "data": {
      "text/plain": [
       "True"
      ]
     },
     "execution_count": 797,
     "metadata": {},
     "output_type": "execute_result"
    }
   ],
   "source": [
    "import random\n",
    "A = {a for a in 'abcde'}\n",
    "\n",
    "def f(x=None,is_val=False):\n",
    "    B = {0,1,2,3,4,5,6,7,8,9,10}\n",
    "    A = [a for a in 'abcde']\n",
    "    X = {A[b]:b for b in B if b < len(A)}\n",
    "    if is_val:\n",
    "        return B\n",
    "    if not isinstance(x,(str,int)):\n",
    "        return union([f(a) for a in x])\n",
    "    return {X[x]}\n",
    "\n",
    "rlt_A = relations(f,A)\n",
    "dmn_A, img_A = image(rlt_A)\n",
    "B = f(is_val=True)\n",
    "is_map(A,f)"
   ]
  },
  {
   "cell_type": "code",
   "execution_count": 798,
   "metadata": {},
   "outputs": [
    {
     "data": {
      "text/plain": [
       "True"
      ]
     },
     "execution_count": 798,
     "metadata": {},
     "output_type": "execute_result"
    }
   ],
   "source": [
    "is_injective(A,B,f)"
   ]
  },
  {
   "cell_type": "code",
   "execution_count": 799,
   "metadata": {},
   "outputs": [
    {
     "data": {
      "text/plain": [
       "{'a': {0}, 'c': {2}, 'd': {3}, 'b': {1}, 'e': {4}}"
      ]
     },
     "execution_count": 799,
     "metadata": {},
     "output_type": "execute_result"
    }
   ],
   "source": [
    "rlt_A"
   ]
  },
  {
   "cell_type": "code",
   "execution_count": 800,
   "metadata": {},
   "outputs": [
    {
     "data": {
      "text/plain": [
       "True"
      ]
     },
     "execution_count": 800,
     "metadata": {},
     "output_type": "execute_result"
    }
   ],
   "source": [
    "def r(x=None, is_val=False):\n",
    "    A = [a for a in 'abcde']\n",
    "    B = [b for b in range(11)]\n",
    "    X = {b:A[b%len(A)] for b in B}\n",
    "    if is_val:\n",
    "        return set(A)\n",
    "    if not isinstance(x,(str,int)):\n",
    "        return union([r(a) for a in x])\n",
    "    return {X[x]}\n",
    "\n",
    "rlt_B = relations(r,B)\n",
    "dmn_B, img_B = image(rlt_B)\n",
    "A = r(is_val=True)\n",
    "is_map(B,s)"
   ]
  },
  {
   "cell_type": "code",
   "execution_count": 801,
   "metadata": {},
   "outputs": [
    {
     "name": "stdout",
     "output_type": "stream",
     "text": [
      "{'a': {'a'}, 'c': {'c'}, 'd': {'d'}, 'b': {'b'}, 'e': {'e'}}\n",
      "恒等写像か: True\n"
     ]
    }
   ],
   "source": [
    "i_a = composit_map([f,r])\n",
    "rlt_i_a = relations(i_a,A)\n",
    "print(rlt_i_a)\n",
    "print('恒等写像か:', is_identity(i_a,A))"
   ]
  },
  {
   "cell_type": "markdown",
   "metadata": {},
   "source": [
    "## 多変数写像"
   ]
  },
  {
   "cell_type": "code",
   "execution_count": 809,
   "metadata": {},
   "outputs": [
    {
     "name": "stdout",
     "output_type": "stream",
     "text": [
      "A = {0, 1, 2, 4}\n",
      "B = {2}\n"
     ]
    }
   ],
   "source": [
    "X = {0,1,2,3,4}\n",
    "X_ps = power_set(X)  # 冪集合\n",
    "\n",
    "A = X_ps[np.random.randint(len(X_ps))]\n",
    "B = X_ps[np.random.randint(len(X_ps))]\n",
    "print(f'A = {A}\\nB = {B}')"
   ]
  },
  {
   "cell_type": "code",
   "execution_count": 810,
   "metadata": {},
   "outputs": [],
   "source": [
    "def phi(As):\n",
    "    return union(As)\n",
    "\n",
    "def psi(As):\n",
    "    return intersection(As)"
   ]
  },
  {
   "cell_type": "code",
   "execution_count": 811,
   "metadata": {},
   "outputs": [],
   "source": [
    "X_dp = direct_product([X_ps,X_ps])  # 冪集合同士の直積\n",
    "\n",
    "rlt_phi = relations(phi,X_dp)"
   ]
  },
  {
   "cell_type": "raw",
   "metadata": {},
   "source": [
    "_, img_phi = image(rlt_phi)"
   ]
  },
  {
   "cell_type": "code",
   "execution_count": 812,
   "metadata": {},
   "outputs": [
    {
     "name": "stdout",
     "output_type": "stream",
     "text": [
      "部分集合: True\n",
      "要素: True\n"
     ]
    }
   ],
   "source": [
    "print('部分集合:', is_subset(img_phi,X))\n",
    "print('要素:', img_phi in X_ps)"
   ]
  },
  {
   "cell_type": "code",
   "execution_count": 816,
   "metadata": {},
   "outputs": [],
   "source": [
    "A = {(a,b,c) for a,b,c in zip(range(10),range(20,30),range(80,90))}\n",
    "\n",
    "def f(a):\n",
    "    return {reduce(lambda x,y: x+y, a)}"
   ]
  },
  {
   "cell_type": "code",
   "execution_count": 817,
   "metadata": {},
   "outputs": [],
   "source": [
    "rlt_A = relations(f,A)\n",
    "_, img_A = image(rlt_A)"
   ]
  },
  {
   "cell_type": "code",
   "execution_count": 818,
   "metadata": {},
   "outputs": [
    {
     "data": {
      "text/plain": [
       "{(7, 27, 87): {121},\n",
       " (6, 26, 86): {118},\n",
       " (2, 22, 82): {106},\n",
       " (8, 28, 88): {124},\n",
       " (5, 25, 85): {115},\n",
       " (9, 29, 89): {127},\n",
       " (0, 20, 80): {100},\n",
       " (1, 21, 81): {103},\n",
       " (4, 24, 84): {112},\n",
       " (3, 23, 83): {109}}"
      ]
     },
     "execution_count": 818,
     "metadata": {},
     "output_type": "execute_result"
    }
   ],
   "source": [
    "rlt_A"
   ]
  },
  {
   "cell_type": "code",
   "execution_count": null,
   "metadata": {},
   "outputs": [],
   "source": []
  }
 ],
 "metadata": {
  "kernelspec": {
   "display_name": "Python 3",
   "language": "python",
   "name": "python3"
  },
  "language_info": {
   "codemirror_mode": {
    "name": "ipython",
    "version": 3
   },
   "file_extension": ".py",
   "mimetype": "text/x-python",
   "name": "python",
   "nbconvert_exporter": "python",
   "pygments_lexer": "ipython3",
   "version": "3.6.2"
  }
 },
 "nbformat": 4,
 "nbformat_minor": 4
}
