{
 "cells": [
  {
   "cell_type": "code",
   "execution_count": 1,
   "metadata": {},
   "outputs": [],
   "source": [
    "import functions\n",
    "from functions import Set\n",
    "from functions.operand import *"
   ]
  },
  {
   "cell_type": "code",
   "execution_count": 2,
   "metadata": {},
   "outputs": [],
   "source": [
    "S = Set({_ for _ in range(10)})\n",
    "A = Set({1,3,5,7,9})\n",
    "B = Set({2,3,5,7})\n",
    "C = Set({0,2,4,6,8})"
   ]
  },
  {
   "cell_type": "code",
   "execution_count": 3,
   "metadata": {},
   "outputs": [
    {
     "name": "stdout",
     "output_type": "stream",
     "text": [
      "共通部分: {3, 5, 7}\n",
      "和集合:  {1, 2, 3, 5, 7, 9}\n",
      "差集合:  {0, 2, 4, 6, 8}\n"
     ]
    }
   ],
   "source": [
    "print('共通部分:', (A&B).values)\n",
    "print('和集合: ', (A|B).values)\n",
    "print('差集合: ', (S-A).values)"
   ]
  },
  {
   "cell_type": "code",
   "execution_count": 4,
   "metadata": {},
   "outputs": [
    {
     "name": "stdout",
     "output_type": "stream",
     "text": [
      "set()\n",
      "{0, 1, 2, 3, 4, 5, 6, 7, 8, 9}\n"
     ]
    }
   ],
   "source": [
    "# 結合法則\n",
    "print((A&B&C).values)\n",
    "print((A|B|C).values)"
   ]
  },
  {
   "cell_type": "markdown",
   "metadata": {},
   "source": [
    "### ド・モルガンの法則\n",
    "「真と偽を入替え、論理和を論理積と入替えた論理体系」は、元の論理体系と同一視できる．"
   ]
  },
  {
   "cell_type": "markdown",
   "metadata": {},
   "source": [
    "$$\n",
    "\\overline{(A\\cap B)} = \\overline{A} \\cup \\overline{B}\\\\\n",
    "\\overline{\\bigcap_{i=0}^{n} A_{i}} = \\bigcup_{i=0}^{n} \\overline{A_{i}}\\\\\n",
    "\\lnot \\forall x\\  A(x) \\Leftrightarrow \\exists x\\ \\lnot A(x)\n",
    "$$"
   ]
  },
  {
   "cell_type": "code",
   "execution_count": 5,
   "metadata": {},
   "outputs": [
    {
     "name": "stdout",
     "output_type": "stream",
     "text": [
      "{0, 1, 2, 4, 6, 8, 9}\n",
      "{0, 1, 2, 4, 6, 8, 9}\n",
      "True\n"
     ]
    }
   ],
   "source": [
    "AandB_c = (S-(A&B)).values\n",
    "A_corB_c = ((S-A)|(S-B)).values\n",
    "print(AandB_c)\n",
    "print(A_corB_c)\n",
    "print(AandB_c==A_corB_c)"
   ]
  },
  {
   "cell_type": "markdown",
   "metadata": {},
   "source": [
    "$$\n",
    "\\overline{(A\\cup B)} = \\overline{A} \\cap \\overline{B}\\\\\n",
    "\\overline{\\bigcup_{i=0}^{n} A_{i}} = \\bigcap_{i=0}^{n} \\overline{A_{i}}\\\\\n",
    "\\lnot \\exists x\\ A(x) \\Leftrightarrow \\forall x\\ \\lnot A(x)\n",
    "$$"
   ]
  },
  {
   "cell_type": "code",
   "execution_count": 6,
   "metadata": {},
   "outputs": [
    {
     "name": "stdout",
     "output_type": "stream",
     "text": [
      "{0, 8, 4, 6}\n",
      "{0, 8, 4, 6}\n",
      "True\n"
     ]
    }
   ],
   "source": [
    "AorB_c = (S-(A|B)).values\n",
    "A_candB_c = ((S-A)&(S-B)).values\n",
    "print(AorB_c)\n",
    "print(A_candB_c)\n",
    "print(AorB_c==A_candB_c)"
   ]
  },
  {
   "cell_type": "markdown",
   "metadata": {},
   "source": [
    "### 対称差\n",
    "$$\n",
    "A \\Delta B = (A - B) \\cup (B - A)\n",
    "$$\n",
    "任意の集合に対して，その集合の冪集合は対称差を算法としてアーベル群になる．\n",
    "\n",
    "$$\n",
    "(\\mathfrak{B}(S), \\Delta)\n",
    "$$\n",
    "\n",
    "・アーベル群($S$,$*$)...\n",
    "集合 $S$ と二項演算 $*$ で定義され,\n",
    "- 閉性律を満たす.\n",
    "    $$\n",
    "    \\forall x,y \\in S\\ [x*y \\in S]\n",
    "    $$\n",
    "- 結合律を満たす. \n",
    "    $$\n",
    "    \\forall x,y,z \\in S\\ [(x*y)*z = x*(y*z)]\n",
    "    $$\n",
    "- 単位律を満たす.\n",
    "    $$\n",
    "    \\exists! e \\in S\\ \\forall x \\in S\\ [x*e = e*x = x]\n",
    "    $$\n",
    "- 反転律を満たす.\n",
    "    $$\n",
    "    \\forall x \\in S\\ \\exists x^{-1} \\in S\\ [x*x^{-1} = x^{-1}*x = e]\n",
    "    $$\n",
    "- 交換律を満たす.\n",
    "    $$\n",
    "    \\forall x,y \\in S\\ [x*y = y*x]\n",
    "    $$"
   ]
  },
  {
   "cell_type": "code",
   "execution_count": 7,
   "metadata": {},
   "outputs": [],
   "source": [
    "def sym_diff(A, B):  # 対称差\n",
    "    return (B-A)|(A-B)\n",
    "\n",
    "\n",
    "def is_closed(S, func):  # 閉性律\n",
    "    def is_not_in_set(As,S):\n",
    "        return all([A in S for A in As])\n",
    "    flg = True\n",
    "    for A in S:\n",
    "        for B in S:\n",
    "            if is_not_in_set([func(A,B),func(B,A)],S):\n",
    "                flg = False\n",
    "                break\n",
    "    return flg\n",
    "\n",
    "\n",
    "def get_identity(S,func):  # 単位元\n",
    "    A = S[np.random.choice(len(S))]\n",
    "    flg = False\n",
    "    for I in S:\n",
    "        if func(A,I) == func(I,A) == set(A):\n",
    "            flg = True\n",
    "            break\n",
    "    return flg, I\n",
    "\n",
    "\n",
    "def exist_identity(S,func):  # 単位律\n",
    "    def is_i(A,I):\n",
    "        return func(A,I) == func(I,A) == set(A)\n",
    "    flg, I = get_identity(S,func)\n",
    "    if flg:\n",
    "        for A in S:\n",
    "            if not is_i(A,I):\n",
    "                flg = False\n",
    "    return flg, I\n",
    "\n",
    "\n",
    "def exist_inv(S,I,func):  # 反転律\n",
    "    def is_inv(A,B,I):\n",
    "        return func(A,B) == func(B,A) == set(I)\n",
    "    flg = False\n",
    "    for A in S:\n",
    "        for B in S:\n",
    "            if is_inv(A,B,I):\n",
    "                flg = True\n",
    "                break\n",
    "        if not flg:\n",
    "            break\n",
    "    return flg\n",
    "\n",
    "\n",
    "def is_commutative(S, func):  # 交換律\n",
    "    def is_not_commutative(A,B):\n",
    "        return not func(A,B) == func(B,A)\n",
    "    flg = True\n",
    "    for A in S:\n",
    "        for B in S:\n",
    "            if is_not_commutative(A,B):\n",
    "                flg = False\n",
    "                break\n",
    "    return flg\n",
    "\n",
    "\n",
    "def is_Abelian(S, func):\n",
    "    if not is_closed(S,func):  # 閉性律\n",
    "        return False\n",
    "    flg, I = exist_identity(S,func)  # 単位律\n",
    "    if not flg:\n",
    "        return False\n",
    "    if not exist_inv(S,I,func):  # 反転律\n",
    "        return False\n",
    "    return is_commutative(S,func)  # 交換律"
   ]
  },
  {
   "cell_type": "code",
   "execution_count": 20,
   "metadata": {},
   "outputs": [
    {
     "name": "stdout",
     "output_type": "stream",
     "text": [
      "{1, 2, 9}\n",
      "{1, 2, 9}\n"
     ]
    }
   ],
   "source": [
    "print(sym_diff(A,B).values)\n",
    "print(sym_diff(B,A).values)"
   ]
  },
  {
   "cell_type": "code",
   "execution_count": 14,
   "metadata": {},
   "outputs": [
    {
     "name": "stdout",
     "output_type": "stream",
     "text": [
      "A = {0, 1, 3, 4, 6, 9} \n",
      "B = {0, 4, 5, 6, 7, 9}\n",
      "(A - B)∪(B - A) = {1, 3, 5, 7} \n",
      "(B - A)∪(A - B) = {1, 3, 5, 7}\n",
      "is Abelian: False\n"
     ]
    }
   ],
   "source": [
    "import numpy as np\n",
    "p_set = S**2\n",
    "\n",
    "A_ = Set(p_set[np.random.randint(len(p_set))])\n",
    "B_ = Set(p_set[np.random.randint(len(p_set))])\n",
    "print('A =', A_.values, '\\nB =', B_.values)\n",
    "sd_A = sym_diff(A_, B_)\n",
    "sd_B = sym_diff(B_, A_)\n",
    "print('(A - B)∪(B - A) =', sd_A.values, '\\n(B - A)∪(A - B) =', sd_B.values)\n",
    "print('is Abelian:', is_Abelian(p_set, sym_diff))"
   ]
  },
  {
   "cell_type": "code",
   "execution_count": null,
   "metadata": {},
   "outputs": [],
   "source": []
  }
 ],
 "metadata": {
  "kernelspec": {
   "display_name": "Python 3",
   "language": "python",
   "name": "python3"
  },
  "language_info": {
   "codemirror_mode": {
    "name": "ipython",
    "version": 3
   },
   "file_extension": ".py",
   "mimetype": "text/x-python",
   "name": "python",
   "nbconvert_exporter": "python",
   "pygments_lexer": "ipython3",
   "version": "3.6.2"
  }
 },
 "nbformat": 4,
 "nbformat_minor": 4
}
