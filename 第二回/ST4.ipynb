{
 "cells": [
  {
   "cell_type": "markdown",
   "metadata": {},
   "source": [
    "# 写像に関する諸概念"
   ]
  },
  {
   "cell_type": "code",
   "execution_count": 1,
   "metadata": {},
   "outputs": [],
   "source": [
    "import functions\n",
    "from functions import (Set, Map)\n",
    "from functions.operand import *"
   ]
  },
  {
   "cell_type": "markdown",
   "metadata": {},
   "source": [
    "## 対応，写像"
   ]
  },
  {
   "cell_type": "markdown",
   "metadata": {},
   "source": [
    "$\n",
    "P = \\left\\{0,1,2,3,4,5,6,7,8,9\\right\\} \\\\\n",
    "Q = \\left\\{a,b,c,d,e,f,g,h,i,j,k\\right\\} \\\\ \n",
    "f: P \\rightarrow Q\\\\\n",
    "$\n",
    "\n",
    "$P$の像$=\\left\\{a,b,c,d,e,f,g\\right\\}$  \n",
    "$Q$の逆像$=\\left\\{0,1,2,3,4,5,6,7,8,9\\right\\}$"
   ]
  },
  {
   "cell_type": "code",
   "execution_count": 2,
   "metadata": {},
   "outputs": [
    {
     "name": "stdout",
     "output_type": "stream",
     "text": [
      "f による P の像: {'c', 'b', 'a', 'g', 'e', 'f', 'd'}\n",
      "対応関係: {0: {'a'}, 1: {'b'}, 2: {'c'}, 3: {'d'}, 4: {'e'}, 5: {'f'}, 6: {'g'}, 7: {'a'}, 8: {'b'}, 9: {'c'}}\n",
      "\n",
      "f による Q の逆像: {0, 1, 2, 3, 4, 5, 6, 7, 8, 9}\n",
      "対応関係: {'j': set(), 'c': {9, 2}, 'b': {8, 1}, 'a': {0, 7}, 'g': {6}, 'e': {4}, 'h': set(), 'k': set(), 'f': {5}, 'd': {3}, 'i': set()}\n",
      "True\n"
     ]
    }
   ],
   "source": [
    "P = Set({a for a in range(10)})\n",
    "Q = Set({a for a in 'abcdefghijk'})\n",
    "\n",
    "class F(Map):\n",
    "    def func(self, x):\n",
    "        if isinstance(x,set):\n",
    "            return {self.func(a) for a in x}\n",
    "        sets = 'abcdefg'\n",
    "        return {sets[x%len(sets)]}\n",
    "\n",
    "f = F(A=P,B=Q)\n",
    "\n",
    "print('f による P の像:', f.image()[1].values)\n",
    "print('対応関係:', f.relations())\n",
    "print('\\nf による Q の逆像:', f.inv().image()[1].values)\n",
    "print('対応関係:', f.inv().relations())\n",
    "\n",
    "print(f.inv().image()[1] == P)"
   ]
  },
  {
   "cell_type": "markdown",
   "metadata": {},
   "source": [
    "## 全射・単射・全単射"
   ]
  },
  {
   "cell_type": "markdown",
   "metadata": {},
   "source": [
    "$\n",
    "f: P\\left\\{0, 1, 2, 3, 4, 5, 6, 7, 8, 9\\right\\} \\rightarrow Q\\left\\{a,b,c,d,e,f,g,h,i,j,k\\right\\}\\\\\n",
    "f(P) = \\left\\{a,b,c,d,e,f,g\\right\\}\\\\\n",
    "f^{-1}(Q) = \\left\\{0,1,2,3,4,5,6,7,8,9\\right\\}\\\\\n",
    "$  "
   ]
  },
  {
   "cell_type": "markdown",
   "metadata": {},
   "source": [
    "### 全射\n",
    "$\n",
    "f(A) = B\n",
    "$  \n",
    "定義域 A から写像 f を通した先が定義域 B 全体を網羅している時に f は全射．  \n",
    "$\n",
    "\\forall b \\in B\\ \\exists a \\in A \\left[b = f(a)\\right]\n",
    "$"
   ]
  },
  {
   "cell_type": "markdown",
   "metadata": {},
   "source": [
    "$f$は全射？"
   ]
  },
  {
   "cell_type": "code",
   "execution_count": 3,
   "metadata": {},
   "outputs": [
    {
     "name": "stdout",
     "output_type": "stream",
     "text": [
      "False\n"
     ]
    }
   ],
   "source": [
    "print(is_surjective(f))"
   ]
  },
  {
   "cell_type": "markdown",
   "metadata": {},
   "source": [
    "$Q$の部分集合 $Q'=\\left\\{a,b,c,d,e,f,g\\right\\}$を設定して..."
   ]
  },
  {
   "cell_type": "markdown",
   "metadata": {},
   "source": [
    "$\n",
    "Q' = \\left\\{a,b,c,d,e,f,g\\right\\} \\\\\n",
    "Q' \\subset Q\n",
    "$"
   ]
  },
  {
   "cell_type": "code",
   "execution_count": 4,
   "metadata": {},
   "outputs": [
    {
     "name": "stdout",
     "output_type": "stream",
     "text": [
      "True\n"
     ]
    }
   ],
   "source": [
    "sub_Q = Set({a for a in 'abcdefg'})\n",
    "print(sub_Q in Q)"
   ]
  },
  {
   "cell_type": "markdown",
   "metadata": {},
   "source": [
    "$\n",
    "f': P\\left\\{0, 1, 2, 3, 4, 5, 6, 7, 8, 9\\right\\} \\rightarrow Q'\\left\\{a,b,c,d,e,f,g\\right\\}\\\\\n",
    "$  \n",
    "を新たに考える．"
   ]
  },
  {
   "cell_type": "markdown",
   "metadata": {},
   "source": [
    "$\n",
    "f'\n",
    "$は全射?"
   ]
  },
  {
   "cell_type": "code",
   "execution_count": 5,
   "metadata": {},
   "outputs": [
    {
     "name": "stdout",
     "output_type": "stream",
     "text": [
      "Pの像: {'c', 'b', 'a', 'g', 'e', 'f', 'd'}\n",
      "True\n"
     ]
    }
   ],
   "source": [
    "f_ = F(A=P, B=sub_Q)\n",
    "print('Pの像:', f_.image()[1].values)\n",
    "print(is_surjective(f_))"
   ]
  },
  {
   "cell_type": "markdown",
   "metadata": {},
   "source": [
    "### 単射\n",
    "$\n",
    "\\forall a \\in A\\ [a \\neq a' \\Rightarrow f(a) \\neq f(a')]\n",
    "$  \n",
    "写像前の元が異なるなら，写した先も必ず異なる．"
   ]
  },
  {
   "cell_type": "markdown",
   "metadata": {},
   "source": [
    "$f$は単射？"
   ]
  },
  {
   "cell_type": "code",
   "execution_count": 6,
   "metadata": {},
   "outputs": [
    {
     "data": {
      "text/plain": [
       "False"
      ]
     },
     "execution_count": 6,
     "metadata": {},
     "output_type": "execute_result"
    }
   ],
   "source": [
    "is_injective(f)"
   ]
  },
  {
   "cell_type": "markdown",
   "metadata": {},
   "source": [
    "$P$の部分集合 $P'=\\left\\{0,1,2,3,4,5,6\\right\\}$を設定して..."
   ]
  },
  {
   "cell_type": "markdown",
   "metadata": {},
   "source": [
    "$\n",
    "P' = \\left\\{0,1,2,3,4,5\\right\\} \\\\\n",
    "P' \\subset P\n",
    "$"
   ]
  },
  {
   "cell_type": "code",
   "execution_count": 7,
   "metadata": {},
   "outputs": [
    {
     "name": "stdout",
     "output_type": "stream",
     "text": [
      "True\n"
     ]
    }
   ],
   "source": [
    "sub_P = Set({a for a in range(7)})\n",
    "print(sub_P in P)"
   ]
  },
  {
   "cell_type": "markdown",
   "metadata": {},
   "source": [
    "$\n",
    "f'': P'\\left\\{0, 1, 2, 3, 4, 5\\right\\} \\rightarrow Q\\left\\{a,b,c,d,e,f,g,h,j,k\\right\\}\\\\\n",
    "$  \n",
    "を新たに考える．"
   ]
  },
  {
   "cell_type": "markdown",
   "metadata": {},
   "source": [
    "$f''$は単射？"
   ]
  },
  {
   "cell_type": "code",
   "execution_count": 8,
   "metadata": {},
   "outputs": [
    {
     "name": "stdout",
     "output_type": "stream",
     "text": [
      "sub_Pの像: {'c', 'b', 'a', 'g', 'e', 'f', 'd'}\n",
      "True\n"
     ]
    }
   ],
   "source": [
    "f_ = F(A=sub_P, B=Q)\n",
    "print('sub_Pの像:', f_.image()[1].values)\n",
    "print(is_injective(f_))"
   ]
  },
  {
   "cell_type": "markdown",
   "metadata": {},
   "source": [
    "### 全単射\n",
    "$f$が全射かつ単射．  \n",
    "写像前の元と写した先が一対一で対応する．  \n",
    "逆写像を定義できる．"
   ]
  },
  {
   "cell_type": "markdown",
   "metadata": {},
   "source": [
    "$f$は全単射？"
   ]
  },
  {
   "cell_type": "code",
   "execution_count": 9,
   "metadata": {},
   "outputs": [
    {
     "data": {
      "text/plain": [
       "False"
      ]
     },
     "execution_count": 9,
     "metadata": {},
     "output_type": "execute_result"
    }
   ],
   "source": [
    "is_bijective(f)"
   ]
  },
  {
   "cell_type": "markdown",
   "metadata": {},
   "source": [
    "先に設定した$Q'$と$P'$から写像  \n",
    "$f''': P' \\rightarrow Q'$  \n",
    "を考える．"
   ]
  },
  {
   "cell_type": "markdown",
   "metadata": {},
   "source": [
    "$f'''$は全単射？"
   ]
  },
  {
   "cell_type": "code",
   "execution_count": 10,
   "metadata": {},
   "outputs": [
    {
     "name": "stdout",
     "output_type": "stream",
     "text": [
      "像　: {'c', 'b', 'a', 'g', 'e', 'f', 'd'}\n",
      "逆像: {0, 1, 2, 3, 4, 5, 6}\n",
      "True\n"
     ]
    }
   ],
   "source": [
    "f_ = F(A=sub_P, B=sub_Q)\n",
    "print('像　:', f_.image()[1].values)\n",
    "print('逆像:', f_.image()[0].values)\n",
    "print(is_bijective(f_))"
   ]
  },
  {
   "cell_type": "markdown",
   "metadata": {},
   "source": [
    "一対一対応の様子．"
   ]
  },
  {
   "cell_type": "code",
   "execution_count": 11,
   "metadata": {},
   "outputs": [
    {
     "data": {
      "text/plain": [
       "{0: {'a'}, 1: {'b'}, 2: {'c'}, 3: {'d'}, 4: {'e'}, 5: {'f'}, 6: {'g'}}"
      ]
     },
     "execution_count": 11,
     "metadata": {},
     "output_type": "execute_result"
    }
   ],
   "source": [
    "f_.relations()"
   ]
  },
  {
   "cell_type": "markdown",
   "metadata": {},
   "source": [
    "### 逆写像"
   ]
  },
  {
   "cell_type": "code",
   "execution_count": 12,
   "metadata": {},
   "outputs": [
    {
     "name": "stdout",
     "output_type": "stream",
     "text": [
      "一対一対応の様子:  {'c': {2}, 'b': {1}, 'a': {0}, 'g': {6}, 'e': {4}, 'f': {5}, 'd': {3}}\n",
      "写像？ True\n"
     ]
    }
   ],
   "source": [
    "print('一対一対応の様子: ', f_.inv().relations())\n",
    "print('写像？', is_map(f_.inv()))"
   ]
  },
  {
   "cell_type": "markdown",
   "metadata": {},
   "source": [
    "### 合成写像\n",
    "$$\n",
    "f: A \\rightarrow B\\\\\n",
    "g: B \\rightarrow C\n",
    "$$  \n",
    "の時， $A$から$B$を経由して$C$に写す写像を考えることができる．\n",
    "\n",
    "$$\n",
    "h: A \\rightarrow C\n",
    "$$  \n",
    "この時の$B$を経由した写像$h$を$f$と$g$の合成写像という．  \n",
    "先に写すものを後に書いて$h=g\\circ f$などと書く．  \n",
    "$f$の値域$B$と$g$の定義域$B$は揃っている必要がある．"
   ]
  },
  {
   "cell_type": "code",
   "execution_count": 13,
   "metadata": {},
   "outputs": [],
   "source": [
    "A = Set({a for a in range(10)})"
   ]
  },
  {
   "cell_type": "markdown",
   "metadata": {},
   "source": [
    "$\n",
    "A = \\left\\{0,1,2,3,4,5,6,7,8,9\\right\\}\\\\\n",
    "B = \\left\\{0,1,4,9,16,25,36,49,64,81\\right\\}\\\\\n",
    "C = \\left\\{0,1,2,3,4\\right\\}\\\\\n",
    "f: A \\rightarrow B\\ \\ \\  二乗した値に写す\\\\\n",
    "g: B \\rightarrow C\\ \\ \\  5で割ったあまりに写す\n",
    "$"
   ]
  },
  {
   "cell_type": "code",
   "execution_count": 14,
   "metadata": {},
   "outputs": [],
   "source": [
    "class A2B(Map):\n",
    "    def func(self, x):\n",
    "        if not isinstance(x,set):\n",
    "            x = set([x])\n",
    "        return {a**2 for a in x}\n",
    "\n",
    "class B2C(Map):\n",
    "    def func(self, x):\n",
    "        if not isinstance(x,set):\n",
    "            x = set([x])\n",
    "        return {b%5 for b in x}"
   ]
  },
  {
   "cell_type": "code",
   "execution_count": 15,
   "metadata": {},
   "outputs": [],
   "source": [
    "f = A2B(A=A)\n",
    "g = B2C(A=f.B,B=Set({0,1,2,3,4}))"
   ]
  },
  {
   "cell_type": "markdown",
   "metadata": {},
   "source": [
    "$f$は全単射，$g$は単なる写像"
   ]
  },
  {
   "cell_type": "code",
   "execution_count": 16,
   "metadata": {},
   "outputs": [
    {
     "name": "stdout",
     "output_type": "stream",
     "text": [
      "fは全単射: True\n",
      "gは写像　: True False False\n"
     ]
    }
   ],
   "source": [
    "print('fは全単射:', is_bijective(f))\n",
    "print('gは写像　:', is_map(g), is_surjective(g), is_injective(g))"
   ]
  },
  {
   "cell_type": "markdown",
   "metadata": {},
   "source": [
    "$f$の値域$B$と$g$の定義域$B$は揃っている"
   ]
  },
  {
   "cell_type": "code",
   "execution_count": 17,
   "metadata": {},
   "outputs": [
    {
     "data": {
      "text/plain": [
       "True"
      ]
     },
     "execution_count": 17,
     "metadata": {},
     "output_type": "execute_result"
    }
   ],
   "source": [
    "f.B == g.A"
   ]
  },
  {
   "cell_type": "code",
   "execution_count": 18,
   "metadata": {},
   "outputs": [
    {
     "name": "stdout",
     "output_type": "stream",
     "text": [
      "fによる写像・逆写像の対応関係\n",
      "写像　: {0: {0}, 1: {1}, 2: {4}, 3: {9}, 4: {16}, 5: {25}, 6: {36}, 7: {49}, 8: {64}, 9: {81}}\n",
      "逆写像: {0: {0}, 1: {1}, 64: {8}, 4: {2}, 36: {6}, 9: {3}, 16: {4}, 49: {7}, 81: {9}, 25: {5}}\n"
     ]
    }
   ],
   "source": [
    "print('fによる写像・逆写像の対応関係')\n",
    "print('写像　:', f.relations())\n",
    "print('逆写像:', f.inv().relations())"
   ]
  },
  {
   "cell_type": "code",
   "execution_count": 19,
   "metadata": {},
   "outputs": [
    {
     "name": "stdout",
     "output_type": "stream",
     "text": [
      "gによる写像・逆写像の対応関係\n",
      "写像　: {0: {0}, 1: {1}, 64: {4}, 4: {4}, 36: {1}, 9: {4}, 16: {1}, 49: {4}, 81: {1}, 25: {0}}\n",
      "逆写像: {0: {0, 25}, 1: {16, 1, 36, 81}, 2: set(), 3: set(), 4: {64, 9, 4, 49}}\n"
     ]
    }
   ],
   "source": [
    "print('gによる写像・逆写像の対応関係')\n",
    "print('写像　:', g.relations())\n",
    "print('逆写像:', g.inv().relations())"
   ]
  },
  {
   "cell_type": "markdown",
   "metadata": {},
   "source": [
    "写像の合成\n",
    "$\n",
    "h = g \\circ f\n",
    "$"
   ]
  },
  {
   "cell_type": "code",
   "execution_count": 20,
   "metadata": {},
   "outputs": [
    {
     "data": {
      "text/plain": [
       "({0, 1, 2, 3, 4, 5, 6, 7, 8, 9}, {0, 1, 64, 4, 36, 9, 16, 49, 81, 25})"
      ]
     },
     "execution_count": 20,
     "metadata": {},
     "output_type": "execute_result"
    }
   ],
   "source": [
    "g.A, g.B\n",
    "f.A, f.B"
   ]
  },
  {
   "cell_type": "code",
   "execution_count": 21,
   "metadata": {},
   "outputs": [],
   "source": [
    "# 先に計算する方を先に\n",
    "h = f * g\n",
    "# 定義域，値域を設定\n",
    "h.param_set(A=f.A,B=g.B)"
   ]
  },
  {
   "cell_type": "code",
   "execution_count": 22,
   "metadata": {},
   "outputs": [
    {
     "name": "stdout",
     "output_type": "stream",
     "text": [
      "hによる写像・逆写像の対応関係\n",
      "写像　: {0: {0}, 1: {1}, 2: {4}, 3: {4}, 4: {1}, 5: {0}, 6: {1}, 7: {4}, 8: {4}, 9: {1}}\n",
      "逆写像: {0: {0, 5}, 1: {1, 4, 6, 9}, 2: set(), 3: set(), 4: {8, 2, 3, 7}}\n"
     ]
    }
   ],
   "source": [
    "print('hによる写像・逆写像の対応関係')\n",
    "print('写像　:', h.relations())\n",
    "print('逆写像:', h.inv().relations())"
   ]
  },
  {
   "cell_type": "markdown",
   "metadata": {},
   "source": [
    "### 恒等写像"
   ]
  },
  {
   "cell_type": "code",
   "execution_count": 23,
   "metadata": {},
   "outputs": [],
   "source": [
    "class I(Map):\n",
    "    def func(self, x):\n",
    "        if not isinstance(x,set):\n",
    "            x = set([x])\n",
    "        return {b for b in x}"
   ]
  },
  {
   "cell_type": "code",
   "execution_count": 24,
   "metadata": {},
   "outputs": [
    {
     "name": "stdout",
     "output_type": "stream",
     "text": [
      "{0: {0}, 1: {1}, 2: {2}, 3: {3}, 4: {4}, 5: {5}, 6: {6}, 7: {7}, 8: {8}, 9: {9}}\n",
      "{0: {0}, 1: {1}, 64: {64}, 4: {4}, 36: {36}, 9: {9}, 16: {16}, 49: {49}, 81: {81}, 25: {25}}\n"
     ]
    }
   ],
   "source": [
    "i_a = (f * f.inv())\n",
    "i_a.param_set(A=f.A)\n",
    "print(i_a.relations())\n",
    "i_b = (f.inv() * f)\n",
    "i_b.param_set(A=f.B)\n",
    "print(i_b.relations())"
   ]
  },
  {
   "cell_type": "code",
   "execution_count": 25,
   "metadata": {},
   "outputs": [
    {
     "name": "stdout",
     "output_type": "stream",
     "text": [
      "    def func(self, x):\n",
      "        if not isinstance(x,set):\n",
      "            x = set([x])\n",
      "        return {a**2 for a in x}\n",
      "    def func(self, x):\n",
      "        if not isinstance(x,set):\n",
      "            x = set([x])\n",
      "        return {b%5 for b in x}\n",
      "\n"
     ]
    }
   ],
   "source": [
    "print(h)"
   ]
  },
  {
   "cell_type": "code",
   "execution_count": 26,
   "metadata": {},
   "outputs": [
    {
     "name": "stdout",
     "output_type": "stream",
     "text": [
      "    def func(self, x):\n",
      "        if not isinstance(x,set):\n",
      "            x = set([x])\n",
      "        return {a**2 for a in x}\n",
      "\n"
     ]
    }
   ],
   "source": [
    "print(f)"
   ]
  },
  {
   "cell_type": "code",
   "execution_count": null,
   "metadata": {},
   "outputs": [],
   "source": []
  }
 ],
 "metadata": {
  "kernelspec": {
   "display_name": "Python 3",
   "language": "python",
   "name": "python3"
  },
  "language_info": {
   "codemirror_mode": {
    "name": "ipython",
    "version": 3
   },
   "file_extension": ".py",
   "mimetype": "text/x-python",
   "name": "python",
   "nbconvert_exporter": "python",
   "pygments_lexer": "ipython3",
   "version": "3.6.2"
  }
 },
 "nbformat": 4,
 "nbformat_minor": 4
}
