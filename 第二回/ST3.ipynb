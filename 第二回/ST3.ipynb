{
 "cells": [
  {
   "cell_type": "markdown",
   "metadata": {},
   "source": [
    "# 対応,写像"
   ]
  },
  {
   "cell_type": "code",
   "execution_count": 1,
   "metadata": {},
   "outputs": [],
   "source": [
    "import functions\n",
    "from functions import (Set, Map)\n",
    "from functions.operand import *"
   ]
  },
  {
   "cell_type": "code",
   "execution_count": 2,
   "metadata": {},
   "outputs": [
    {
     "name": "stdout",
     "output_type": "stream",
     "text": [
      "元の数:  143 143\n",
      "写像の総数:  1792160394037 1792160394037\n"
     ]
    }
   ],
   "source": [
    "from functools import reduce\n",
    "from collections import defaultdict\n",
    "\n",
    "A = Set({_ for _ in range(11)})\n",
    "B = Set({_ for _ in range(13)})\n",
    "\n",
    "def count_relations(A_B):  \n",
    "    count = defaultdict(int)\n",
    "    for i in A_B.values:\n",
    "        count[i[0]] += 1\n",
    "    return reduce(lambda x,y: x*y, count.values())\n",
    "\n",
    "A_B = A*B\n",
    "print('元の数: ', len(A_B), len(A) * len(B))\n",
    "print('写像の総数: ', count_relations(A_B), len(B)**len(A))"
   ]
  },
  {
   "cell_type": "code",
   "execution_count": 3,
   "metadata": {},
   "outputs": [
    {
     "name": "stdout",
     "output_type": "stream",
     "text": [
      "対応:  {0: {'A'}, 1: {}, 2: {'A'}, 3: {'B'}, 4: {'A'}, 5: {}, 6: {'A'}, 7: {}, 8: {'A'}, 9: {'B'}}\n",
      "像:  {'A', 'B'}\n",
      "像が終集合の部分集合:  True\n"
     ]
    }
   ],
   "source": [
    "elector = Set({_ for _ in range(10)})  # 10人の選挙人\n",
    "candidate = Set({'A', 'B', 'C'})  # ３人の候補者\n",
    "\n",
    "def gamma(x):  # 対応の規則（本来は一対一対応出なくても良い）\n",
    "    '''gamma: elector -> candidate'''\n",
    "    if x%2 == 0:\n",
    "        return {'A'}\n",
    "    elif x%3 == 0:\n",
    "        return {'B'}\n",
    "    else:\n",
    "        return {}\n",
    "\n",
    "g = Map(gamma, A=elector, B=candidate)\n",
    "\n",
    "rlt = g.relations()\n",
    "_, rlt_image = g.image()\n",
    "\n",
    "print('対応: ', rlt)\n",
    "print('像: ', rlt_image.values)\n",
    "print('像が終集合の部分集合: ', rlt_image in candidate)"
   ]
  },
  {
   "cell_type": "code",
   "execution_count": 4,
   "metadata": {},
   "outputs": [
    {
     "name": "stdout",
     "output_type": "stream",
     "text": [
      "定義域: {0, 2, 3, 4, 6, 8, 9}\n",
      "値域: {'A', 'B'}\n",
      "定義域が始集合の部分集合:  True\n"
     ]
    }
   ],
   "source": [
    "dmn, img = g.image()\n",
    "print(f'定義域: {dmn.values}\\n値域: {img.values}')\n",
    "print('定義域が始集合の部分集合: ', dmn in elector)"
   ]
  },
  {
   "cell_type": "code",
   "execution_count": 5,
   "metadata": {},
   "outputs": [
    {
     "data": {
      "image/png": "[encoded data removed]",
      "text/plain": [
       "<Figure size 432x288 with 1 Axes>"
      ]
     },
     "metadata": {
      "needs_background": "light"
     },
     "output_type": "display_data"
    }
   ],
   "source": [
    "# グラフ\n",
    "import matplotlib.pyplot as plt\n",
    "import copy\n",
    "%matplotlib inline\n",
    "\n",
    "def graph(rlt, A, inv=False, xlabel='Elector', ylabel='Candidate'):\n",
    "    rlt_ = copy.copy(rlt)\n",
    "    A_img = np.array([[e, *rlt_[e]] for e in A if len(rlt_[e]) > 0])\n",
    "    plt.scatter(A_img[:,0],A_img[:,1])\n",
    "    plt.xticks(list(A),list(A))\n",
    "    if inv:\n",
    "        xlabel, ylabel = ylabel, xlabel\n",
    "    plt.xlabel(xlabel)\n",
    "    plt.ylabel(ylabel)\n",
    "    plt.show()\n",
    "    return sorted(rlt.items())\n",
    "\n",
    "rlt_graph = graph(rlt, elector.values)"
   ]
  },
  {
   "cell_type": "code",
   "execution_count": 6,
   "metadata": {},
   "outputs": [
    {
     "name": "stdout",
     "output_type": "stream",
     "text": [
      "{(2, 'A'), (5, 'C'), (4, 'A'), (7, 'A'), (0, 'C'), (1, 'A'), (3, 'A'), (9, 'B'), (8, 'C'), (6, 'C')}\n"
     ]
    }
   ],
   "source": [
    "import numpy as np\n",
    "\n",
    "rlts = elector * candidate  # 一対一対応に絞っています...\n",
    "rlt = Set(set([]))\n",
    "for e in elector.values:\n",
    "    for i in rlts.values:\n",
    "        if i[0] == e:\n",
    "            rlt = rlt | Set({i})\n",
    "            break\n",
    "print(rlt.values)"
   ]
  },
  {
   "cell_type": "code",
   "execution_count": 7,
   "metadata": {},
   "outputs": [
    {
     "name": "stdout",
     "output_type": "stream",
     "text": [
      "{0: {'B'}, 1: {'B'}, 2: {'B'}, 3: {'B'}, 4: {'B'}, 5: {'B'}, 6: {'B'}, 7: {'B'}, 8: {'B'}, 9: {'B'}}\n"
     ]
    },
    {
     "data": {
      "image/png": "[encoded data removed]",
      "text/plain": [
       "<Figure size 432x288 with 1 Axes>"
      ]
     },
     "metadata": {
      "needs_background": "light"
     },
     "output_type": "display_data"
    },
    {
     "name": "stdout",
     "output_type": "stream",
     "text": [
      "{'B'}\n"
     ]
    }
   ],
   "source": [
    "def gamma(x):  # グラフと合うように対応を決める\n",
    "    return {'B'}\n",
    "\n",
    "g_b = Map(gamma, A=elector, B=candidate)\n",
    "\n",
    "rlt = g_b.relations()\n",
    "print(rlt)\n",
    "\n",
    "rlt_graph = graph(rlt, elector.values)\n",
    "print(g_b.image()[1].values)"
   ]
  },
  {
   "cell_type": "code",
   "execution_count": 8,
   "metadata": {},
   "outputs": [
    {
     "name": "stdout",
     "output_type": "stream",
     "text": [
      "定義域: {0, 1, 2, 3, 4, 5, 6, 7, 8, 9}\n",
      "値域: {'B'}\n"
     ]
    }
   ],
   "source": [
    "dmn, img = g_b.image()\n",
    "print(f'定義域: {dmn.values}\\n値域: {img.values}')"
   ]
  },
  {
   "cell_type": "markdown",
   "metadata": {},
   "source": [
    "### 逆対応"
   ]
  },
  {
   "cell_type": "code",
   "execution_count": 9,
   "metadata": {},
   "outputs": [
    {
     "name": "stdout",
     "output_type": "stream",
     "text": [
      "{'C': set(), 'A': set(), 'B': {0, 1, 2, 3, 4, 5, 6, 7, 8, 9}}\n"
     ]
    },
    {
     "data": {
      "image/png": "[encoded data removed]",
      "text/plain": [
       "<Figure size 432x288 with 1 Axes>"
      ]
     },
     "metadata": {
      "needs_background": "light"
     },
     "output_type": "display_data"
    },
    {
     "data": {
      "text/plain": [
       "[('A', set()), ('B', {0, 1, 2, 3, 4, 5, 6, 7, 8, 9}), ('C', set())]"
      ]
     },
     "execution_count": 9,
     "metadata": {},
     "output_type": "execute_result"
    }
   ],
   "source": [
    "inv_rlt = g_b.inv().relations()\n",
    "print(inv_rlt)\n",
    "graph(inv_rlt, candidate.values, inv=True)"
   ]
  },
  {
   "cell_type": "code",
   "execution_count": 10,
   "metadata": {},
   "outputs": [
    {
     "name": "stdout",
     "output_type": "stream",
     "text": [
      "False\n",
      "True\n"
     ]
    }
   ],
   "source": [
    "dmn,img = g_b.image()\n",
    "dmn_inv,img_inv = g_b.inv().image()\n",
    "print(dmn_inv == img)\n",
    "print(img_inv == dmn)"
   ]
  },
  {
   "cell_type": "markdown",
   "metadata": {},
   "source": [
    "### 写像"
   ]
  },
  {
   "cell_type": "markdown",
   "metadata": {},
   "source": [
    "$A \\times B$ の部分集合 $G$ が $f: A \\rightarrow B$ のグラフになる.\n",
    "$\\Leftrightarrow$\n",
    "$\\forall a\\ \\exists! b\\ [(a,b) \\in G]$"
   ]
  },
  {
   "cell_type": "code",
   "execution_count": 11,
   "metadata": {},
   "outputs": [],
   "source": [
    "def is_map(rlt):  # 対応が写像かどうか\n",
    "    return all([len(b) == 1 for a,b in rlt.items()])"
   ]
  },
  {
   "cell_type": "code",
   "execution_count": 12,
   "metadata": {},
   "outputs": [
    {
     "name": "stdout",
     "output_type": "stream",
     "text": [
      "True\n",
      "False\n"
     ]
    }
   ],
   "source": [
    "print(is_map(rlt))\n",
    "print(is_map(inv_rlt))"
   ]
  },
  {
   "cell_type": "code",
   "execution_count": 13,
   "metadata": {},
   "outputs": [
    {
     "name": "stdout",
     "output_type": "stream",
     "text": [
      "True\n",
      "False\n"
     ]
    },
    {
     "data": {
      "image/png": "[encoded data removed]",
      "text/plain": [
       "<Figure size 432x288 with 1 Axes>"
      ]
     },
     "metadata": {
      "needs_background": "light"
     },
     "output_type": "display_data"
    }
   ],
   "source": [
    "# x^2+1\n",
    "\n",
    "D = Set({a for a in range(-10,10)})\n",
    "\n",
    "class Quadra(Map):\n",
    "    def __init__(self, A=D, B=Set(set([])), types='func', init=True):\n",
    "        self.types = types\n",
    "        self.values = self.func\n",
    "        self.A = A\n",
    "        self.B = B\n",
    "        self.target_init()\n",
    "\n",
    "    def func(self, x):\n",
    "        return {x**2 + 1}\n",
    "\n",
    "print(is_map(Quadra().relations()))\n",
    "print(is_map(Quadra().inv().relations()))\n",
    "rlt_graph = graph(Quadra().relations(), D.values ,xlabel='x', ylabel='$x^{2}+1$')"
   ]
  },
  {
   "cell_type": "code",
   "execution_count": 14,
   "metadata": {},
   "outputs": [
    {
     "name": "stdout",
     "output_type": "stream",
     "text": [
      "True\n",
      "False\n"
     ]
    },
    {
     "data": {
      "image/png": "[encoded data removed]",
      "text/plain": [
       "<Figure size 432x288 with 1 Axes>"
      ]
     },
     "metadata": {
      "needs_background": "light"
     },
     "output_type": "display_data"
    }
   ],
   "source": [
    "# 定値写像\n",
    "\n",
    "D = Set({a for a in range(-10,10)})\n",
    "\n",
    "class Const(Map):\n",
    "    def __init__(self, A=D, B=Set(set([])), types='func', init=True):\n",
    "        self.types = types\n",
    "        self.values = self.func\n",
    "        self.A = A\n",
    "        self.B = B\n",
    "        self.target_init()\n",
    "\n",
    "    def func(self, x):\n",
    "        return {10}\n",
    "\n",
    "print(is_map(Const().relations()))\n",
    "print(is_map(Const().inv().relations()))\n",
    "rlt_graph = graph(Const().relations(), D.values ,xlabel='x', ylabel='$10$')"
   ]
  },
  {
   "cell_type": "code",
   "execution_count": 15,
   "metadata": {},
   "outputs": [
    {
     "name": "stdout",
     "output_type": "stream",
     "text": [
      "True\n",
      "True\n"
     ]
    },
    {
     "data": {
      "image/png": "[encoded data removed]",
      "text/plain": [
       "<Figure size 432x288 with 1 Axes>"
      ]
     },
     "metadata": {
      "needs_background": "light"
     },
     "output_type": "display_data"
    }
   ],
   "source": [
    "# 恒等写像\n",
    "\n",
    "D = Set({a for a in range(-10,10)})\n",
    "\n",
    "class Identity(Map):\n",
    "    def __init__(self, A=D, B=Set(set([])), types='func', init=True):\n",
    "        self.types = types\n",
    "        self.values = self.func\n",
    "        self.A = A\n",
    "        self.B = B\n",
    "        self.target_init()\n",
    "\n",
    "    def func(self, x):\n",
    "        return {x}\n",
    "\n",
    "print(is_map(Identity().relations()))\n",
    "print(is_map(Identity().inv().relations()))\n",
    "rlt_graph = graph(Identity().relations(), D.values ,xlabel='x', ylabel='$x$')"
   ]
  },
  {
   "cell_type": "code",
   "execution_count": null,
   "metadata": {},
   "outputs": [],
   "source": []
  },
  {
   "cell_type": "code",
   "execution_count": null,
   "metadata": {},
   "outputs": [],
   "source": []
  }
 ],
 "metadata": {
  "kernelspec": {
   "display_name": "Python 3",
   "language": "python",
   "name": "python3"
  },
  "language_info": {
   "codemirror_mode": {
    "name": "ipython",
    "version": 3
   },
   "file_extension": ".py",
   "mimetype": "text/x-python",
   "name": "python",
   "nbconvert_exporter": "python",
   "pygments_lexer": "ipython3",
   "version": "3.6.2"
  }
 },
 "nbformat": 4,
 "nbformat_minor": 4
}
