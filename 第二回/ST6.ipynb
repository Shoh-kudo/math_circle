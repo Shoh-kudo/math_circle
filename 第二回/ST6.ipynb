{
 "cells": [
  {
   "cell_type": "markdown",
   "metadata": {},
   "source": [
    "# 同値関係"
   ]
  },
  {
   "cell_type": "code",
   "execution_count": 6,
   "metadata": {},
   "outputs": [],
   "source": [
    "def flatten(S):\n",
    "    if not isinstance(S,list):\n",
    "        return [S]\n",
    "    x = []\n",
    "    for s in S:\n",
    "        x += flatten(s)\n",
    "    return x\n",
    "\n",
    "def direct_product(As):\n",
    "    if isinstance(As,dict):\n",
    "        As = list(As.values())\n",
    "    X = []\n",
    "    if len(As) == 1:\n",
    "        return As[0]\n",
    "    for a in As[0]:\n",
    "        for b in direct_product(As[1:]):\n",
    "            X += [flatten([a,b])]\n",
    "    return X\n",
    "\n",
    "def graph(A,B,r):\n",
    "    return {(a,b) for a,b in direct_product([A,B]) if r(a,b)}\n",
    "\n",
    "def equal(x,y):\n",
    "    return x == y"
   ]
  },
  {
   "cell_type": "code",
   "execution_count": 8,
   "metadata": {},
   "outputs": [],
   "source": [
    "A = {a for a in 'qawsedrftgyhujikolp;[]'}\n",
    "\n",
    "G_equal = graph(A,A,equal)"
   ]
  },
  {
   "cell_type": "code",
   "execution_count": 9,
   "metadata": {},
   "outputs": [
    {
     "name": "stdout",
     "output_type": "stream",
     "text": [
      "{('u', 'u'), ('l', 'l'), ('q', 'q'), ('t', 't'), ('f', 'f'), (']', ']'), ('k', 'k'), ('d', 'd'), ('e', 'e'), ('r', 'r'), ('s', 's'), ('a', 'a'), ('[', '['), ('j', 'j'), ('i', 'i'), (';', ';'), ('w', 'w'), ('p', 'p'), ('y', 'y'), ('g', 'g'), ('o', 'o'), ('h', 'h')}\n"
     ]
    }
   ],
   "source": [
    "print(G_equal)"
   ]
  },
  {
   "cell_type": "markdown",
   "metadata": {},
   "source": [
    "### 同値律"
   ]
  },
  {
   "cell_type": "code",
   "execution_count": 27,
   "metadata": {},
   "outputs": [],
   "source": [
    "def reflection(a,b,r):\n",
    "    if a == b:\n",
    "        return r(a,b)\n",
    "    else:\n",
    "        return True\n",
    "\n",
    "def symmetry(a,b,r):\n",
    "    return r(a,b) == r(b,a)\n",
    "\n",
    "def transitive(a,b,c,r):\n",
    "    if all([r(a,b), r(b,c)]):\n",
    "        return r(a,c)\n",
    "    else:\n",
    "        return True\n",
    "\n",
    "def is_equiv_relation(A,r):\n",
    "    return all([\n",
    "        all([reflection(a,b,r) for a,b in direct_product([A,A])]),\n",
    "        all([symmetry(a,b,r) for a,b in direct_product([A,A])]),\n",
    "        all([transitive(a,b,c,r) for a,b,c in direct_product([A,A,A])]),\n",
    "    ])"
   ]
  },
  {
   "cell_type": "code",
   "execution_count": 28,
   "metadata": {},
   "outputs": [
    {
     "data": {
      "text/plain": [
       "True"
      ]
     },
     "execution_count": 28,
     "metadata": {},
     "output_type": "execute_result"
    }
   ],
   "source": [
    "is_equiv_relation(A,equal)"
   ]
  },
  {
   "cell_type": "code",
   "execution_count": 37,
   "metadata": {},
   "outputs": [
    {
     "name": "stdout",
     "output_type": "stream",
     "text": [
      "{(-1, 4), (6, 6), (-6, -6), (-1, -1), (-1, 9), (7, 7), (-7, -7), (4, -6), (-8, -8), (1, 6), (-6, -1), (9, 4), (5, -5), (-5, 5), (-3, -3), (-9, 6), (-2, -7), (4, -1), (7, 2), (-5, -10), (8, -7), (-4, 6), (0, -5), (2, -3), (3, -7), (3, 3), (4, 9), (5, 5), (-10, -5), (6, -4), (-8, -3), (4, 4), (-5, -5), (-4, -4), (-6, 9), (8, -2), (-3, 2), (-8, 2), (5, 0), (2, 2), (-9, 1), (-6, 4), (-3, -8), (7, -3), (-7, 3), (1, 1), (-10, 0), (-2, -2), (-5, 0), (0, 0), (-1, -6), (-3, 7), (-8, 7), (7, -8), (-10, 5), (0, 5), (9, -1), (1, -4), (5, -10), (2, 7), (0, -10), (8, 3), (9, -6), (-7, -2), (1, -9), (-10, -10), (-9, -4), (6, 1), (-4, -9), (-2, 3), (9, 9), (3, -2), (-9, -9), (3, 8), (-2, 8), (8, 8), (6, -9), (-4, 1), (2, -8), (-7, 8)}\n"
     ]
    },
    {
     "data": {
      "text/plain": [
       "True"
      ]
     },
     "execution_count": 37,
     "metadata": {},
     "output_type": "execute_result"
    }
   ],
   "source": [
    "def equiv(a,b,mod=5):\n",
    "    return (a-b)%mod == 0\n",
    "\n",
    "Z = {n for n in range(-10,10)}\n",
    "print(graph(Z,Z,equiv))\n",
    "is_equiv_relation(Z,equiv)"
   ]
  },
  {
   "cell_type": "markdown",
   "metadata": {},
   "source": [
    "### 付随する同値関係"
   ]
  },
  {
   "cell_type": "code",
   "execution_count": 43,
   "metadata": {},
   "outputs": [
    {
     "name": "stdout",
     "output_type": "stream",
     "text": [
      "{(-10, -9), (-1, 0), (6, 6), (5, 6), (-6, -6), (9, 8), (-9, -10), (7, 7), (-7, -7), (8, 9), (-8, -8), (3, 3), (5, 5), (-5, -5), (-3, -3), (4, 4), (-4, -4), (2, 2), (-2, -2), (-1, -1), (1, 1), (3, 2), (0, 0), (-3, -4), (-4, -3), (2, 3), (6, 5), (-6, -7), (-10, -10), (9, 9), (-9, -9), (-7, -6), (8, 8), (0, -1)}\n"
     ]
    },
    {
     "data": {
      "text/plain": [
       "True"
      ]
     },
     "execution_count": 43,
     "metadata": {},
     "output_type": "execute_result"
    }
   ],
   "source": [
    "def f(x):\n",
    "    return x%3 + x*2\n",
    "\n",
    "def eq(f):\n",
    "    def func(a,b):\n",
    "        return f(a) == f(b)\n",
    "    return func\n",
    "\n",
    "A = {a for a in range(-10,10)}\n",
    "print(graph(A,A,eq(f)))\n",
    "is_equiv_relation(A,eq(f))  # eq(f) f を指定しないと決まらない同値関係 = 付随する"
   ]
  },
  {
   "cell_type": "code",
   "execution_count": 60,
   "metadata": {},
   "outputs": [
    {
     "name": "stdout",
     "output_type": "stream",
     "text": [
      "互いに素？ True\n",
      "{(5, 9), (7, 3), (1, 3), (9, 1), (4, 8), (6, 6), (2, 8), (0, 2), (8, 0), (7, 7), (6, 2), (3, 7), (5, 1), (4, 0), (3, 3), (5, 5), (4, 4), (1, 5), (2, 2), (0, 4), (8, 6), (1, 1), (9, 7), (6, 4), (0, 0), (2, 6), (8, 2), (7, 1), (9, 3), (6, 0), (3, 9), (7, 5), (1, 9), (4, 2), (0, 8), (3, 5), (5, 3), (7, 9), (4, 6), (6, 8), (3, 1), (5, 7), (9, 9), (0, 6), (2, 0), (8, 8), (1, 7), (9, 5), (2, 4), (8, 4)}\n"
     ]
    },
    {
     "data": {
      "text/plain": [
       "True"
      ]
     },
     "execution_count": 60,
     "metadata": {},
     "output_type": "execute_result"
    }
   ],
   "source": [
    "from collections import defaultdict\n",
    "\n",
    "def power_set(S):  # 冪集合\n",
    "    p_sets = [[]]\n",
    "    for s in S:\n",
    "        tmp = []\n",
    "        for element in p_sets:\n",
    "            tmp.append(element + [s])\n",
    "        p_sets.extend(tmp)\n",
    "    return [set(s) for s in p_sets]\n",
    "\n",
    "def intersection(sets):\n",
    "    sets = [{s} if isinstance(s,(int,str)) else s for s in sets]\n",
    "    S = sets[0]\n",
    "    for s in sets[1:]:\n",
    "        S = {_ for _ in S if _ in s}\n",
    "    return S\n",
    "\n",
    "def eq(M):\n",
    "    def func(x,y):\n",
    "        rel = defaultdict(list)\n",
    "        for a in [x,y]:\n",
    "            rel[a] = [s for s in M if a in s]\n",
    "        return rel[x] == rel[y]\n",
    "    return func\n",
    "\n",
    "A = {a for a in range(10)}\n",
    "M = [{a for a in A if a%2==0},{a for a in A if a%2==1}]\n",
    "\n",
    "print('互いに素？', intersection(M) == set([]))\n",
    "\n",
    "print(graph(A,A,eq(M)))\n",
    "is_equiv_relation(A,eq(M))    # eq(M) M を指定しないと決まらない同値関係 = 付随する"
   ]
  },
  {
   "cell_type": "code",
   "execution_count": 167,
   "metadata": {},
   "outputs": [],
   "source": [
    "R = {a for a in range(-100,100)}\n",
    "C = defaultdict(set)\n",
    "mod = 5\n",
    "\n",
    "def equiv(mod=5):\n",
    "    def func(a,b):\n",
    "        return (a-b)%mod == 0\n",
    "    return func\n",
    "\n",
    "for a in R:\n",
    "    for b in R:\n",
    "        if equiv(mod=mod)(a,b):\n",
    "            C[a].add(b)"
   ]
  },
  {
   "cell_type": "code",
   "execution_count": 168,
   "metadata": {},
   "outputs": [
    {
     "name": "stdout",
     "output_type": "stream",
     "text": [
      "True\n",
      "True\n",
      "True\n"
     ]
    }
   ],
   "source": [
    "# (6.1)\n",
    "print(all([a in C[a] for a in R]))\n",
    "\n",
    "# (6.2)\n",
    "print(all([\n",
    "    all([C[a] == C[b] for a,b in direct_product([R,R]) if equiv(mod=mod)(a,b)]),\n",
    "    all([equiv(mod=mod)(a,b) for a,b in direct_product([R,R]) if C[a] == C[b]])\n",
    "]))\n",
    "\n",
    "# (6.3)\n",
    "print(all(\n",
    "    [intersection([C[a],C[b]]) == set([]) \\\n",
    "     for a,b in direct_product([R,R]) if C[a] != C[b]]),\n",
    ")"
   ]
  },
  {
   "cell_type": "code",
   "execution_count": 169,
   "metadata": {},
   "outputs": [
    {
     "name": "stdout",
     "output_type": "stream",
     "text": [
      "代表元: 0 1 2 -2 -1\n",
      "0の類 = [-100, -95, -90, -85, -80, -75, -70, -65, -60, -55, -50, -45, -40, -35, -30, -25, -20, -15, -10, -5, 0, 5, 10, 15, 20, 25, 30, 35, 40, 45, 50, 55, 60, 65, 70, 75, 80, 85, 90, 95]\n",
      "\n",
      "1の類 = [-99, -94, -89, -84, -79, -74, -69, -64, -59, -54, -49, -44, -39, -34, -29, -24, -19, -14, -9, -4, 1, 6, 11, 16, 21, 26, 31, 36, 41, 46, 51, 56, 61, 66, 71, 76, 81, 86, 91, 96]\n",
      "\n",
      "2の類 = [-98, -93, -88, -83, -78, -73, -68, -63, -58, -53, -48, -43, -38, -33, -28, -23, -18, -13, -8, -3, 2, 7, 12, 17, 22, 27, 32, 37, 42, 47, 52, 57, 62, 67, 72, 77, 82, 87, 92, 97]\n",
      "\n",
      "-2の類 = [-97, -92, -87, -82, -77, -72, -67, -62, -57, -52, -47, -42, -37, -32, -27, -22, -17, -12, -7, -2, 3, 8, 13, 18, 23, 28, 33, 38, 43, 48, 53, 58, 63, 68, 73, 78, 83, 88, 93, 98]\n",
      "\n",
      "-1の類 = [-96, -91, -86, -81, -76, -71, -66, -61, -56, -51, -46, -41, -36, -31, -26, -21, -16, -11, -6, -1, 4, 9, 14, 19, 24, 29, 34, 39, 44, 49, 54, 59, 64, 69, 74, 79, 84, 89, 94, 99]\n",
      "\n"
     ]
    }
   ],
   "source": [
    "M = {}\n",
    "for e,s in C.items():\n",
    "    M[e] = s\n",
    "    for me,ms in M.items():\n",
    "        if s == ms and e != me:\n",
    "            M.pop([me,e][np.argmax([abs(me),abs(e)])])\n",
    "            break\n",
    "print('代表元:', *M.keys())\n",
    "\n",
    "for e,s in M.items():\n",
    "    print(f'{e}の類 = {sorted(list(s))}\\n')"
   ]
  },
  {
   "cell_type": "markdown",
   "metadata": {},
   "source": [
    "2つの極端な例"
   ]
  },
  {
   "cell_type": "code",
   "execution_count": 170,
   "metadata": {},
   "outputs": [],
   "source": [
    "def get_equiv_class(A,f):\n",
    "    C = defaultdict(set)\n",
    "    for a in A:\n",
    "        for b in A:\n",
    "            if f(a,b):\n",
    "                C[a].add(b)\n",
    "    M = {}\n",
    "    for e,s in C.items():\n",
    "        M[e] = s\n",
    "        for me,ms in M.items():\n",
    "            if s == ms and e != me:\n",
    "                M.pop([me,e][np.argmax([abs(me),abs(e)])])\n",
    "                break\n",
    "    return M, C"
   ]
  },
  {
   "cell_type": "code",
   "execution_count": 171,
   "metadata": {},
   "outputs": [
    {
     "name": "stdout",
     "output_type": "stream",
     "text": [
      "{0: {0}, 1: {1}, 2: {2}, 3: {3}, 4: {4}, 5: {5}, 6: {6}, 7: {7}, 8: {8}, 9: {9}, 10: {10}, 11: {11}, 12: {12}, 13: {13}, 14: {14}, 15: {15}, 16: {16}, 17: {17}, 18: {18}, 19: {19}, 20: {20}, 21: {21}, 22: {22}, 23: {23}, 24: {24}, 25: {25}, 26: {26}, 27: {27}, 28: {28}, 29: {29}, 30: {30}, 31: {31}, 32: {32}, 33: {33}, 34: {34}, 35: {35}, 36: {36}, 37: {37}, 38: {38}, 39: {39}, 40: {40}, 41: {41}, 42: {42}, 43: {43}, 44: {44}, 45: {45}, 46: {46}, 47: {47}, 48: {48}, 49: {49}, 50: {50}, 51: {51}, 52: {52}, 53: {53}, 54: {54}, 55: {55}, 56: {56}, 57: {57}, 58: {58}, 59: {59}, 60: {60}, 61: {61}, 62: {62}, 63: {63}, 64: {64}, 65: {65}, 66: {66}, 67: {67}, 68: {68}, 69: {69}, 70: {70}, 71: {71}, 72: {72}, 73: {73}, 74: {74}, 75: {75}, 76: {76}, 77: {77}, 78: {78}, 79: {79}, 80: {80}, 81: {81}, 82: {82}, 83: {83}, 84: {84}, 85: {85}, 86: {86}, 87: {87}, 88: {88}, 89: {89}, 90: {90}, 91: {91}, 92: {92}, 93: {93}, 94: {94}, 95: {95}, 96: {96}, 97: {97}, 98: {98}, 99: {99}, -100: {-100}, -99: {-99}, -98: {-98}, -97: {-97}, -96: {-96}, -95: {-95}, -94: {-94}, -93: {-93}, -92: {-92}, -91: {-91}, -90: {-90}, -89: {-89}, -88: {-88}, -87: {-87}, -86: {-86}, -85: {-85}, -84: {-84}, -83: {-83}, -82: {-82}, -81: {-81}, -80: {-80}, -79: {-79}, -78: {-78}, -77: {-77}, -76: {-76}, -75: {-75}, -74: {-74}, -73: {-73}, -72: {-72}, -71: {-71}, -70: {-70}, -69: {-69}, -68: {-68}, -67: {-67}, -66: {-66}, -65: {-65}, -64: {-64}, -63: {-63}, -62: {-62}, -61: {-61}, -60: {-60}, -59: {-59}, -58: {-58}, -57: {-57}, -56: {-56}, -55: {-55}, -54: {-54}, -53: {-53}, -52: {-52}, -51: {-51}, -50: {-50}, -49: {-49}, -48: {-48}, -47: {-47}, -46: {-46}, -45: {-45}, -44: {-44}, -43: {-43}, -42: {-42}, -41: {-41}, -40: {-40}, -39: {-39}, -38: {-38}, -37: {-37}, -36: {-36}, -35: {-35}, -34: {-34}, -33: {-33}, -32: {-32}, -31: {-31}, -30: {-30}, -29: {-29}, -28: {-28}, -27: {-27}, -26: {-26}, -25: {-25}, -24: {-24}, -23: {-23}, -22: {-22}, -21: {-21}, -20: {-20}, -19: {-19}, -18: {-18}, -17: {-17}, -16: {-16}, -15: {-15}, -14: {-14}, -13: {-13}, -12: {-12}, -11: {-11}, -10: {-10}, -9: {-9}, -8: {-8}, -7: {-7}, -6: {-6}, -5: {-5}, -4: {-4}, -3: {-3}, -2: {-2}, -1: {-1}}\n"
     ]
    }
   ],
   "source": [
    "print(get_equiv_class(R,equal)[0])"
   ]
  },
  {
   "cell_type": "code",
   "execution_count": 172,
   "metadata": {},
   "outputs": [
    {
     "name": "stdout",
     "output_type": "stream",
     "text": [
      "{0: {0, 1, 2, 3, 4, 5, 6, 7, 8, 9, 10, 11, 12, 13, 14, 15, 16, 17, 18, 19, 20, 21, 22, 23, 24, 25, 26, 27, 28, 29, 30, 31, 32, 33, 34, 35, 36, 37, 38, 39, 40, 41, 42, 43, 44, 45, 46, 47, 48, 49, 50, 51, 52, 53, 54, 55, 56, 57, 58, 59, 60, 61, 62, 63, 64, 65, 66, 67, 68, 69, 70, 71, 72, 73, 74, 75, 76, 77, 78, 79, 80, 81, 82, 83, 84, 85, 86, 87, 88, 89, 90, 91, 92, 93, 94, 95, 96, 97, 98, 99, -100, -99, -98, -97, -96, -95, -94, -93, -92, -91, -90, -89, -88, -87, -86, -85, -84, -83, -82, -81, -80, -79, -78, -77, -76, -75, -74, -73, -72, -71, -70, -69, -68, -67, -66, -65, -64, -63, -62, -61, -60, -59, -58, -57, -56, -55, -54, -53, -52, -51, -50, -49, -48, -47, -46, -45, -44, -43, -42, -41, -40, -39, -38, -37, -36, -35, -34, -33, -32, -31, -30, -29, -28, -27, -26, -25, -24, -23, -22, -21, -20, -19, -18, -17, -16, -15, -14, -13, -12, -11, -10, -9, -8, -7, -6, -5, -4, -3, -2, -1}}\n"
     ]
    }
   ],
   "source": [
    "print(get_equiv_class(R,lambda x,y: True)[0])"
   ]
  },
  {
   "cell_type": "code",
   "execution_count": 173,
   "metadata": {},
   "outputs": [
    {
     "name": "stdout",
     "output_type": "stream",
     "text": [
      "[-5, -4, -3, -2, -1, 0, 1, 2, 3, 4]\n"
     ]
    }
   ],
   "source": [
    "mod = 10\n",
    "print(sorted(get_equiv_class(R,equiv(mod=mod))[0].keys()))"
   ]
  },
  {
   "cell_type": "markdown",
   "metadata": {},
   "source": [
    "標準的写像"
   ]
  },
  {
   "cell_type": "code",
   "execution_count": 174,
   "metadata": {},
   "outputs": [],
   "source": [
    "def f(M):\n",
    "    def func(x):\n",
    "        if not isinstance(x,(str,int)):\n",
    "            return [func(a) for a in x]\n",
    "        for i in M.values():\n",
    "            if x in i:\n",
    "                return i\n",
    "    return func"
   ]
  },
  {
   "cell_type": "code",
   "execution_count": 189,
   "metadata": {},
   "outputs": [],
   "source": [
    "def relations(func, A):\n",
    "    if isinstance(A,set):\n",
    "        return {\n",
    "            x: func(x) for x in A\n",
    "        }\n",
    "    elif isinstance(A,list):\n",
    "        return {\n",
    "            str(a): func(a) for a in A if func(a) is not None\n",
    "        }\n",
    "\n",
    "def image(relations):\n",
    "    dmn = [a for a,b in relations.items() if isinstance(b,set)]\n",
    "    img = [b for a,b in relations.items()]\n",
    "    return union(dmn), union(img)\n",
    "\n",
    "def is_subset(A,B):\n",
    "    return all([x in B for x in A if x is not None])\n",
    "\n",
    "def delta(relations):  # 逆対応\n",
    "    inv_rlts = defaultdict(set)\n",
    "    for key, vals in relations.items():\n",
    "        for val in vals:\n",
    "            inv_rlts[val].add(key)\n",
    "    return inv_rlts\n",
    "\n",
    "def inv_(func,P):\n",
    "    rlt_P = relations(func,P)\n",
    "    rlt = delta(rlt_P)\n",
    "    def inv(x):\n",
    "        if not isinstance(x,set):\n",
    "            x = set([x])\n",
    "        return union([rlt[a] for a in x])\n",
    "    return inv\n",
    "\n",
    "def is_map(A,func):  # 写像\n",
    "    rlt = relations(func,A)\n",
    "    return all([len(b) == 1 for a,b in rlt.items()])"
   ]
  },
  {
   "cell_type": "code",
   "execution_count": 176,
   "metadata": {},
   "outputs": [],
   "source": [
    "def union(sets):\n",
    "    sets = [{s} if isinstance(s,(int,str)) else s for s in sets]\n",
    "    S = sets[0]\n",
    "    for s in sets[1:]:\n",
    "        S = {_ for _ in {*S, *s}}\n",
    "    return S\n",
    "\n",
    "\n",
    "def family_union(As):\n",
    "    return union(As.values())\n",
    "\n",
    "\n",
    "def intersection(sets):\n",
    "    sets = [{s} if isinstance(s,(int,str)) else s for s in sets]\n",
    "    S = sets[0]\n",
    "    for s in sets[1:]:\n",
    "        S = {_ for _ in S if _ in s}\n",
    "    return S\n",
    "\n",
    "\n",
    "def family_insec(As):\n",
    "    return intersection(As.values())\n",
    "\n",
    "\n",
    "def diff(A, S):\n",
    "    return {_ for _ in S if _ not in A}\n",
    "\n",
    "\n",
    "def get_values(As, keys):\n",
    "    return {k:As[k] for k in keys}\n",
    "\n",
    "def is_surjective(A,B,func):  # 全射\n",
    "    return all([b in func(A) for b in B])\n",
    "\n",
    "def is_injective(A,B,func):  # 単射\n",
    "    ans = defaultdict(list)\n",
    "    inv_ans = defaultdict(list)\n",
    "    for a in A:\n",
    "        for b in func(a):\n",
    "            ans[b].append(a)\n",
    "            inv_ans[a].append(b)\n",
    "    return all([len(v) == 1 for k,v in [*ans.items(),*inv_ans.items()]])\n",
    "\n",
    "def is_bijective(A,B,func):  # 全単射\n",
    "    return all([\n",
    "        is_surjective(A,B,func),\n",
    "        is_injective(A,B,func)\n",
    "    ])"
   ]
  },
  {
   "cell_type": "code",
   "execution_count": 178,
   "metadata": {},
   "outputs": [
    {
     "name": "stdout",
     "output_type": "stream",
     "text": [
      "True\n"
     ]
    }
   ],
   "source": [
    "M,C = get_equiv_class(R,equiv(mod=10))\n",
    "rlt_R = relations(f(M),R)\n",
    "print(is_surjective(R,M.values(),f(M)))"
   ]
  },
  {
   "cell_type": "markdown",
   "metadata": {},
   "source": [
    "### 写像の分解"
   ]
  },
  {
   "cell_type": "code",
   "execution_count": 227,
   "metadata": {},
   "outputs": [
    {
     "name": "stdout",
     "output_type": "stream",
     "text": [
      "{(-10, -9), (-1, 0), (6, 6), (5, 6), (-6, -6), (9, 8), (-9, -10), (7, 7), (-7, -7), (8, 9), (-8, -8), (3, 3), (5, 5), (-5, -5), (-3, -3), (4, 4), (-4, -4), (2, 2), (-2, -2), (-1, -1), (1, 1), (3, 2), (0, 0), (-3, -4), (-4, -3), (2, 3), (6, 5), (-6, -7), (-10, -10), (9, 9), (-9, -9), (-7, -6), (8, 8), (0, -1)}\n",
      "\n",
      "{0: {0}, 1: {3}, 2: {6}, 3: {6}, 4: {9}, 5: {12}, 6: {12}, 7: {15}, 8: {18}, 9: {18}, -10: {-18}, -9: {-18}, -8: {-15}, -7: {-12}, -6: {-12}, -5: {-9}, -4: {-6}, -3: {-6}, -2: {-3}, -1: {0}}\n"
     ]
    }
   ],
   "source": [
    "def f(x):\n",
    "    if not isinstance(x,(str,int)):\n",
    "        return union([f(a) for a in x])\n",
    "    return {x%3 + x*2}\n",
    "\n",
    "def eq(f):\n",
    "    def func(a,b):\n",
    "        return f(a) == f(b)\n",
    "    return func\n",
    "\n",
    "A = {a for a in range(-10,10)}\n",
    "sub_B = f(A)\n",
    "rlt_A = relations(f,A)\n",
    "print(graph(A,A,eq(f)))\n",
    "print()\n",
    "print(rlt_A)"
   ]
  },
  {
   "cell_type": "markdown",
   "metadata": {},
   "source": [
    "$\\varphi: A \\rightarrow A/R$"
   ]
  },
  {
   "cell_type": "code",
   "execution_count": 235,
   "metadata": {},
   "outputs": [
    {
     "name": "stdout",
     "output_type": "stream",
     "text": [
      "{0: {0, -1}, 1: {1}, 2: {2, 3}, 4: {4}, 5: {5, 6}, 7: {7}, 8: {8, 9}, -9: {-10, -9}, -8: {-8}, -6: {-7, -6}, -5: {-5}, -3: {-4, -3}, -2: {-2}}\n"
     ]
    }
   ],
   "source": [
    "def phi(f,A):\n",
    "    _,C = get_equiv_class(A,eq(f))\n",
    "    def func(x):\n",
    "        if not isinstance(x,(str,int)):\n",
    "            return union([C[a] for a in x])\n",
    "        return C[x]\n",
    "    return func\n",
    "\n",
    "M,C = get_equiv_class(A,eq(f))  # A -> A/eq(f)\n",
    "print(M)"
   ]
  },
  {
   "cell_type": "markdown",
   "metadata": {},
   "source": [
    "$g: A/R \\rightarrow V(f)$"
   ]
  },
  {
   "cell_type": "code",
   "execution_count": 236,
   "metadata": {},
   "outputs": [
    {
     "name": "stdout",
     "output_type": "stream",
     "text": [
      "{0, 3, 6, 9, 12, -18, 15, -15, 18, -12, -9, -6, -3}\n"
     ]
    }
   ],
   "source": [
    "def g(f):\n",
    "    def func(x):\n",
    "        return f(x)\n",
    "    return func\n",
    "\n",
    "V = g(f)(M.values())\n",
    "print(V)"
   ]
  },
  {
   "cell_type": "markdown",
   "metadata": {},
   "source": [
    "$j: V(f) \\rightarrow B$"
   ]
  },
  {
   "cell_type": "code",
   "execution_count": 237,
   "metadata": {},
   "outputs": [
    {
     "name": "stdout",
     "output_type": "stream",
     "text": [
      "{0, 3, 6, 9, 12, -18, 15, -15, 18, -12, -9, -6, -3}\n"
     ]
    }
   ],
   "source": [
    "def j(x):\n",
    "    if not isinstance(x,(str,int)):\n",
    "        return {j(a) for a in x}\n",
    "    return x\n",
    "\n",
    "B_ = j(V)\n",
    "print(B_)"
   ]
  },
  {
   "cell_type": "code",
   "execution_count": 238,
   "metadata": {},
   "outputs": [],
   "source": [
    "def composit_map(F):\n",
    "    def func(x):\n",
    "        for f in F:\n",
    "            x = f(x)\n",
    "        return x\n",
    "    return func"
   ]
  },
  {
   "cell_type": "code",
   "execution_count": 239,
   "metadata": {},
   "outputs": [],
   "source": [
    "cmp = composit_map([phi(f,A),g(f),j])"
   ]
  },
  {
   "cell_type": "code",
   "execution_count": 240,
   "metadata": {},
   "outputs": [
    {
     "name": "stdout",
     "output_type": "stream",
     "text": [
      "{0} {0}\n",
      "{3} {3}\n",
      "{6} {6}\n",
      "{6} {6}\n",
      "{9} {9}\n",
      "{12} {12}\n",
      "{12} {12}\n",
      "{15} {15}\n",
      "{18} {18}\n",
      "{18} {18}\n",
      "{-18} {-18}\n",
      "{-18} {-18}\n",
      "{-15} {-15}\n",
      "{-12} {-12}\n",
      "{-12} {-12}\n",
      "{-9} {-9}\n",
      "{-6} {-6}\n",
      "{-6} {-6}\n",
      "{-3} {-3}\n",
      "{0} {0}\n"
     ]
    }
   ],
   "source": [
    "for a in A:\n",
    "    print(f(a), cmp(a))"
   ]
  },
  {
   "cell_type": "code",
   "execution_count": 246,
   "metadata": {},
   "outputs": [
    {
     "data": {
      "text/plain": [
       "({-18, -15, -12, -9, -6, -3, 0, 3, 6, 9, 12, 15, 18},\n",
       " {-18, -15, -12, -9, -6, -3, 0, 3, 6, 9, 12, 15, 18})"
      ]
     },
     "execution_count": 246,
     "metadata": {},
     "output_type": "execute_result"
    }
   ],
   "source": [
    "cmp(A), f(A)"
   ]
  },
  {
   "cell_type": "code",
   "execution_count": null,
   "metadata": {},
   "outputs": [],
   "source": []
  }
 ],
 "metadata": {
  "kernelspec": {
   "display_name": "Python 3",
   "language": "python",
   "name": "python3"
  },
  "language_info": {
   "codemirror_mode": {
    "name": "ipython",
    "version": 3
   },
   "file_extension": ".py",
   "mimetype": "text/x-python",
   "name": "python",
   "nbconvert_exporter": "python",
   "pygments_lexer": "ipython3",
   "version": "3.6.2"
  }
 },
 "nbformat": 4,
 "nbformat_minor": 4
}
